{
 "cells": [
  {
   "cell_type": "code",
   "execution_count": 1,
   "id": "47c9e600",
   "metadata": {
    "_cell_guid": "b1076dfc-b9ad-4769-8c92-a6c4dae69d19",
    "_uuid": "8f2839f25d086af736a60e9eeb907d3b93b6e0e5",
    "execution": {
     "iopub.execute_input": "2023-01-07T16:44:33.495088Z",
     "iopub.status.busy": "2023-01-07T16:44:33.494258Z",
     "iopub.status.idle": "2023-01-07T16:44:33.507031Z",
     "shell.execute_reply": "2023-01-07T16:44:33.506246Z"
    },
    "papermill": {
     "duration": 0.035885,
     "end_time": "2023-01-07T16:44:33.509575",
     "exception": false,
     "start_time": "2023-01-07T16:44:33.473690",
     "status": "completed"
    },
    "tags": []
   },
   "outputs": [
    {
     "name": "stdout",
     "output_type": "stream",
     "text": [
      "/kaggle/input/goodreads-books-reviews-290312/goodreads_test.csv\n",
      "/kaggle/input/goodreads-books-reviews-290312/goodreads_sample_submission.csv\n",
      "/kaggle/input/goodreads-books-reviews-290312/goodreads_train.csv\n"
     ]
    }
   ],
   "source": [
    "# This Python 3 environment comes with many helpful analytics libraries installed\n",
    "# It is defined by the kaggle/python Docker image: https://github.com/kaggle/docker-python\n",
    "# For example, here's several helpful packages to load\n",
    "\n",
    "import numpy as np # linear algebra\n",
    "import pandas as pd # data processing, CSV file I/O (e.g. pd.read_csv)\n",
    "\n",
    "# Input data files are available in the read-only \"../input/\" directory\n",
    "# For example, running this (by clicking run or pressing Shift+Enter) will list all files under the input directory\n",
    "\n",
    "import os\n",
    "for dirname, _, filenames in os.walk('/kaggle/input'):\n",
    "    for filename in filenames:\n",
    "        print(os.path.join(dirname, filename))\n",
    "\n",
    "# You can write up to 20GB to the current directory (/kaggle/working/) that gets preserved as output when you create a version using \"Save & Run All\" \n",
    "# You can also write temporary files to /kaggle/temp/, but they won't be saved outside of the current session"
   ]
  },
  {
   "cell_type": "code",
   "execution_count": 2,
   "id": "13455378",
   "metadata": {
    "execution": {
     "iopub.execute_input": "2023-01-07T16:44:33.546833Z",
     "iopub.status.busy": "2023-01-07T16:44:33.546096Z",
     "iopub.status.idle": "2023-01-07T16:44:34.562614Z",
     "shell.execute_reply": "2023-01-07T16:44:34.561226Z"
    },
    "papermill": {
     "duration": 1.038593,
     "end_time": "2023-01-07T16:44:34.565885",
     "exception": false,
     "start_time": "2023-01-07T16:44:33.527292",
     "status": "completed"
    },
    "tags": []
   },
   "outputs": [],
   "source": [
    "import pandas as pd\n",
    "import csv\n",
    "import re \n",
    "import string\n",
    "from sklearn.model_selection import train_test_split\n",
    "from sklearn.feature_extraction.text import CountVectorizer\n",
    "from sklearn.feature_extraction.text import TfidfVectorizer"
   ]
  },
  {
   "cell_type": "code",
   "execution_count": 3,
   "id": "221207ef",
   "metadata": {
    "execution": {
     "iopub.execute_input": "2023-01-07T16:44:34.604126Z",
     "iopub.status.busy": "2023-01-07T16:44:34.603312Z",
     "iopub.status.idle": "2023-01-07T16:45:16.260513Z",
     "shell.execute_reply": "2023-01-07T16:45:16.259298Z"
    },
    "papermill": {
     "duration": 41.680604,
     "end_time": "2023-01-07T16:45:16.264065",
     "exception": false,
     "start_time": "2023-01-07T16:44:34.583461",
     "status": "completed"
    },
    "tags": []
   },
   "outputs": [],
   "source": [
    "train = pd.read_csv(\"/kaggle/input/goodreads-books-reviews-290312/goodreads_train.csv\")\n",
    "test = pd.read_csv(\"/kaggle/input/goodreads-books-reviews-290312/goodreads_test.csv\")"
   ]
  },
  {
   "cell_type": "code",
   "execution_count": 4,
   "id": "79c212ef",
   "metadata": {
    "execution": {
     "iopub.execute_input": "2023-01-07T16:45:16.301552Z",
     "iopub.status.busy": "2023-01-07T16:45:16.301145Z",
     "iopub.status.idle": "2023-01-07T16:45:16.587239Z",
     "shell.execute_reply": "2023-01-07T16:45:16.585985Z"
    },
    "papermill": {
     "duration": 0.30847,
     "end_time": "2023-01-07T16:45:16.590610",
     "exception": false,
     "start_time": "2023-01-07T16:45:16.282140",
     "status": "completed"
    },
    "tags": []
   },
   "outputs": [],
   "source": [
    "train0=train[train['rating']==0]\n",
    "train1=train[train['rating']==1]\n",
    "train2=train[train['rating']==2]\n",
    "train3=train[train['rating']==3]\n",
    "train4=train[train['rating']==4]\n",
    "train5=train[train['rating']==5]"
   ]
  },
  {
   "cell_type": "code",
   "execution_count": 5,
   "id": "a1c2f663",
   "metadata": {
    "execution": {
     "iopub.execute_input": "2023-01-07T16:45:16.628669Z",
     "iopub.status.busy": "2023-01-07T16:45:16.626697Z",
     "iopub.status.idle": "2023-01-07T16:45:16.639681Z",
     "shell.execute_reply": "2023-01-07T16:45:16.638870Z"
    },
    "papermill": {
     "duration": 0.033902,
     "end_time": "2023-01-07T16:45:16.642041",
     "exception": false,
     "start_time": "2023-01-07T16:45:16.608139",
     "status": "completed"
    },
    "tags": []
   },
   "outputs": [
    {
     "data": {
      "text/plain": [
       "((30988, 11),\n",
       " (28718, 11),\n",
       " (72627, 11),\n",
       " (188972, 11),\n",
       " (313688, 11),\n",
       " (265007, 11))"
      ]
     },
     "execution_count": 5,
     "metadata": {},
     "output_type": "execute_result"
    }
   ],
   "source": [
    "train0.shape, train1.shape, train2.shape, train3.shape, train4.shape, train5.shape"
   ]
  },
  {
   "cell_type": "code",
   "execution_count": 6,
   "id": "475128b8",
   "metadata": {
    "execution": {
     "iopub.execute_input": "2023-01-07T16:45:16.677279Z",
     "iopub.status.busy": "2023-01-07T16:45:16.676853Z",
     "iopub.status.idle": "2023-01-07T16:45:16.684202Z",
     "shell.execute_reply": "2023-01-07T16:45:16.683043Z"
    },
    "papermill": {
     "duration": 0.027682,
     "end_time": "2023-01-07T16:45:16.686586",
     "exception": false,
     "start_time": "2023-01-07T16:45:16.658904",
     "status": "completed"
    },
    "tags": []
   },
   "outputs": [],
   "source": [
    "train0=train0[:int(train0.shape[0]/100)]\n",
    "train1=train1[:int(train1.shape[0]/100)]\n",
    "train2=train2[:int(train2.shape[0]/100)]\n",
    "train3=train3[:int(train3.shape[0]/100)]\n",
    "train4=train4[:int(train4.shape[0]/100)]\n",
    "train5=train5[:int(train5.shape[0]/100)]"
   ]
  },
  {
   "cell_type": "code",
   "execution_count": 7,
   "id": "2b91c745",
   "metadata": {
    "execution": {
     "iopub.execute_input": "2023-01-07T16:45:16.724662Z",
     "iopub.status.busy": "2023-01-07T16:45:16.724215Z",
     "iopub.status.idle": "2023-01-07T16:45:16.732390Z",
     "shell.execute_reply": "2023-01-07T16:45:16.731182Z"
    },
    "papermill": {
     "duration": 0.029319,
     "end_time": "2023-01-07T16:45:16.734884",
     "exception": false,
     "start_time": "2023-01-07T16:45:16.705565",
     "status": "completed"
    },
    "tags": []
   },
   "outputs": [
    {
     "data": {
      "text/plain": [
       "((309, 11), (287, 11), (726, 11), (1889, 11), (3136, 11), (2650, 11))"
      ]
     },
     "execution_count": 7,
     "metadata": {},
     "output_type": "execute_result"
    }
   ],
   "source": [
    "train0.shape, train1.shape, train2.shape, train3.shape, train4.shape, train5.shape"
   ]
  },
  {
   "cell_type": "code",
   "execution_count": 8,
   "id": "02085c2d",
   "metadata": {
    "execution": {
     "iopub.execute_input": "2023-01-07T16:45:16.771430Z",
     "iopub.status.busy": "2023-01-07T16:45:16.771000Z",
     "iopub.status.idle": "2023-01-07T16:45:16.838608Z",
     "shell.execute_reply": "2023-01-07T16:45:16.837452Z"
    },
    "papermill": {
     "duration": 0.089286,
     "end_time": "2023-01-07T16:45:16.841402",
     "exception": false,
     "start_time": "2023-01-07T16:45:16.752116",
     "status": "completed"
    },
    "tags": []
   },
   "outputs": [],
   "source": [
    "train=pd.concat([train0,train1,train2,train3,train4,train5],axis=0)"
   ]
  },
  {
   "cell_type": "code",
   "execution_count": 9,
   "id": "1b0122e0",
   "metadata": {
    "execution": {
     "iopub.execute_input": "2023-01-07T16:45:16.876857Z",
     "iopub.status.busy": "2023-01-07T16:45:16.876391Z",
     "iopub.status.idle": "2023-01-07T16:45:16.883707Z",
     "shell.execute_reply": "2023-01-07T16:45:16.882403Z"
    },
    "papermill": {
     "duration": 0.027594,
     "end_time": "2023-01-07T16:45:16.885856",
     "exception": false,
     "start_time": "2023-01-07T16:45:16.858262",
     "status": "completed"
    },
    "tags": []
   },
   "outputs": [
    {
     "data": {
      "text/plain": [
       "(8997, 11)"
      ]
     },
     "execution_count": 9,
     "metadata": {},
     "output_type": "execute_result"
    }
   ],
   "source": [
    "train.shape"
   ]
  },
  {
   "cell_type": "code",
   "execution_count": 10,
   "id": "930bf587",
   "metadata": {
    "execution": {
     "iopub.execute_input": "2023-01-07T16:45:16.921704Z",
     "iopub.status.busy": "2023-01-07T16:45:16.921246Z",
     "iopub.status.idle": "2023-01-07T16:45:16.928546Z",
     "shell.execute_reply": "2023-01-07T16:45:16.927536Z"
    },
    "papermill": {
     "duration": 0.028304,
     "end_time": "2023-01-07T16:45:16.930999",
     "exception": false,
     "start_time": "2023-01-07T16:45:16.902695",
     "status": "completed"
    },
    "tags": []
   },
   "outputs": [
    {
     "data": {
      "text/plain": [
       "Index(['user_id', 'book_id', 'review_id', 'rating', 'review_text',\n",
       "       'date_added', 'date_updated', 'read_at', 'started_at', 'n_votes',\n",
       "       'n_comments'],\n",
       "      dtype='object')"
      ]
     },
     "execution_count": 10,
     "metadata": {},
     "output_type": "execute_result"
    }
   ],
   "source": [
    "train.columns"
   ]
  },
  {
   "cell_type": "code",
   "execution_count": 11,
   "id": "00053d7f",
   "metadata": {
    "execution": {
     "iopub.execute_input": "2023-01-07T16:45:16.966942Z",
     "iopub.status.busy": "2023-01-07T16:45:16.966482Z",
     "iopub.status.idle": "2023-01-07T16:45:17.477867Z",
     "shell.execute_reply": "2023-01-07T16:45:17.476578Z"
    },
    "papermill": {
     "duration": 0.532382,
     "end_time": "2023-01-07T16:45:17.480433",
     "exception": false,
     "start_time": "2023-01-07T16:45:16.948051",
     "status": "completed"
    },
    "tags": []
   },
   "outputs": [
    {
     "data": {
      "image/png": "[encoded data removed]",
      "text/plain": [
       "<Figure size 432x288 with 2 Axes>"
      ]
     },
     "metadata": {
      "needs_background": "light"
     },
     "output_type": "display_data"
    }
   ],
   "source": [
    "import seaborn as sns\n",
    "\n",
    "#plotting the heatmap for correlation\n",
    "ax = sns.heatmap(train.corr(), annot=True)"
   ]
  },
  {
   "cell_type": "code",
   "execution_count": 12,
   "id": "24f6a1d4",
   "metadata": {
    "execution": {
     "iopub.execute_input": "2023-01-07T16:45:17.517505Z",
     "iopub.status.busy": "2023-01-07T16:45:17.516617Z",
     "iopub.status.idle": "2023-01-07T16:45:17.528926Z",
     "shell.execute_reply": "2023-01-07T16:45:17.527615Z"
    },
    "papermill": {
     "duration": 0.033707,
     "end_time": "2023-01-07T16:45:17.531682",
     "exception": false,
     "start_time": "2023-01-07T16:45:17.497975",
     "status": "completed"
    },
    "tags": []
   },
   "outputs": [],
   "source": [
    "train = train.drop(['user_id', 'book_id', 'review_id', 'date_added', 'date_updated', 'n_votes','read_at', 'started_at','n_comments'], axis = 1)"
   ]
  },
  {
   "cell_type": "code",
   "execution_count": 13,
   "id": "5cc4bdf4",
   "metadata": {
    "execution": {
     "iopub.execute_input": "2023-01-07T16:45:17.569744Z",
     "iopub.status.busy": "2023-01-07T16:45:17.568372Z",
     "iopub.status.idle": "2023-01-07T16:45:17.589790Z",
     "shell.execute_reply": "2023-01-07T16:45:17.588959Z"
    },
    "papermill": {
     "duration": 0.04222,
     "end_time": "2023-01-07T16:45:17.591916",
     "exception": false,
     "start_time": "2023-01-07T16:45:17.549696",
     "status": "completed"
    },
    "tags": []
   },
   "outputs": [
    {
     "data": {
      "text/html": [
       "<div>\n",
       "<style scoped>\n",
       "    .dataframe tbody tr th:only-of-type {\n",
       "        vertical-align: middle;\n",
       "    }\n",
       "\n",
       "    .dataframe tbody tr th {\n",
       "        vertical-align: top;\n",
       "    }\n",
       "\n",
       "    .dataframe thead th {\n",
       "        text-align: right;\n",
       "    }\n",
       "</style>\n",
       "<table border=\"1\" class=\"dataframe\">\n",
       "  <thead>\n",
       "    <tr style=\"text-align: right;\">\n",
       "      <th></th>\n",
       "      <th>rating</th>\n",
       "      <th>review_text</th>\n",
       "    </tr>\n",
       "  </thead>\n",
       "  <tbody>\n",
       "    <tr>\n",
       "      <th>3</th>\n",
       "      <td>0</td>\n",
       "      <td>Recommended reading to understand what is goin...</td>\n",
       "    </tr>\n",
       "    <tr>\n",
       "      <th>7</th>\n",
       "      <td>0</td>\n",
       "      <td>Numerous people in publishing have told me thi...</td>\n",
       "    </tr>\n",
       "    <tr>\n",
       "      <th>13</th>\n",
       "      <td>0</td>\n",
       "      <td>Recommended by David Risher</td>\n",
       "    </tr>\n",
       "    <tr>\n",
       "      <th>54</th>\n",
       "      <td>0</td>\n",
       "      <td>Well if Melanie says its her BBE, I gotta chec...</td>\n",
       "    </tr>\n",
       "    <tr>\n",
       "      <th>58</th>\n",
       "      <td>0</td>\n",
       "      <td>If steve recommends it, it must be good!</td>\n",
       "    </tr>\n",
       "    <tr>\n",
       "      <th>...</th>\n",
       "      <td>...</td>\n",
       "      <td>...</td>\n",
       "    </tr>\n",
       "    <tr>\n",
       "      <th>8008</th>\n",
       "      <td>5</td>\n",
       "      <td>Loose ends are tied up and old mysteries are s...</td>\n",
       "    </tr>\n",
       "    <tr>\n",
       "      <th>8013</th>\n",
       "      <td>5</td>\n",
       "      <td>This was my most recent audio book. The narrat...</td>\n",
       "    </tr>\n",
       "    <tr>\n",
       "      <th>8022</th>\n",
       "      <td>5</td>\n",
       "      <td>Harold Fry receives a letter in the mail from ...</td>\n",
       "    </tr>\n",
       "    <tr>\n",
       "      <th>8028</th>\n",
       "      <td>5</td>\n",
       "      <td>August was born with several problems, includi...</td>\n",
       "    </tr>\n",
       "    <tr>\n",
       "      <th>8032</th>\n",
       "      <td>5</td>\n",
       "      <td>A fantastic true story about running, people w...</td>\n",
       "    </tr>\n",
       "  </tbody>\n",
       "</table>\n",
       "<p>8997 rows × 2 columns</p>\n",
       "</div>"
      ],
      "text/plain": [
       "      rating                                        review_text\n",
       "3          0  Recommended reading to understand what is goin...\n",
       "7          0  Numerous people in publishing have told me thi...\n",
       "13         0                        Recommended by David Risher\n",
       "54         0  Well if Melanie says its her BBE, I gotta chec...\n",
       "58         0           If steve recommends it, it must be good!\n",
       "...      ...                                                ...\n",
       "8008       5  Loose ends are tied up and old mysteries are s...\n",
       "8013       5  This was my most recent audio book. The narrat...\n",
       "8022       5  Harold Fry receives a letter in the mail from ...\n",
       "8028       5  August was born with several problems, includi...\n",
       "8032       5  A fantastic true story about running, people w...\n",
       "\n",
       "[8997 rows x 2 columns]"
      ]
     },
     "execution_count": 13,
     "metadata": {},
     "output_type": "execute_result"
    }
   ],
   "source": [
    "train"
   ]
  },
  {
   "cell_type": "code",
   "execution_count": 14,
   "id": "daf4b3fe",
   "metadata": {
    "execution": {
     "iopub.execute_input": "2023-01-07T16:45:17.629588Z",
     "iopub.status.busy": "2023-01-07T16:45:17.628549Z",
     "iopub.status.idle": "2023-01-07T16:45:17.635181Z",
     "shell.execute_reply": "2023-01-07T16:45:17.633865Z"
    },
    "papermill": {
     "duration": 0.027899,
     "end_time": "2023-01-07T16:45:17.637573",
     "exception": false,
     "start_time": "2023-01-07T16:45:17.609674",
     "status": "completed"
    },
    "tags": []
   },
   "outputs": [
    {
     "data": {
      "text/plain": [
       "Index(['user_id', 'book_id', 'review_id', 'review_text', 'date_added',\n",
       "       'date_updated', 'read_at', 'started_at', 'n_votes', 'n_comments'],\n",
       "      dtype='object')"
      ]
     },
     "execution_count": 14,
     "metadata": {},
     "output_type": "execute_result"
    }
   ],
   "source": [
    "test.columns\n"
   ]
  },
  {
   "cell_type": "code",
   "execution_count": 15,
   "id": "d498b917",
   "metadata": {
    "execution": {
     "iopub.execute_input": "2023-01-07T16:45:17.676044Z",
     "iopub.status.busy": "2023-01-07T16:45:17.675237Z",
     "iopub.status.idle": "2023-01-07T16:45:17.747280Z",
     "shell.execute_reply": "2023-01-07T16:45:17.746347Z"
    },
    "papermill": {
     "duration": 0.09412,
     "end_time": "2023-01-07T16:45:17.749828",
     "exception": false,
     "start_time": "2023-01-07T16:45:17.655708",
     "status": "completed"
    },
    "tags": []
   },
   "outputs": [],
   "source": [
    "test = test.drop(['user_id', 'book_id', 'review_id', 'date_added','date_updated', 'read_at', 'started_at','n_comments'], axis = 1)"
   ]
  },
  {
   "cell_type": "code",
   "execution_count": 16,
   "id": "4b707004",
   "metadata": {
    "execution": {
     "iopub.execute_input": "2023-01-07T16:45:17.788096Z",
     "iopub.status.busy": "2023-01-07T16:45:17.787274Z",
     "iopub.status.idle": "2023-01-07T16:45:17.799846Z",
     "shell.execute_reply": "2023-01-07T16:45:17.798846Z"
    },
    "papermill": {
     "duration": 0.03472,
     "end_time": "2023-01-07T16:45:17.802305",
     "exception": false,
     "start_time": "2023-01-07T16:45:17.767585",
     "status": "completed"
    },
    "tags": []
   },
   "outputs": [
    {
     "data": {
      "text/html": [
       "<div>\n",
       "<style scoped>\n",
       "    .dataframe tbody tr th:only-of-type {\n",
       "        vertical-align: middle;\n",
       "    }\n",
       "\n",
       "    .dataframe tbody tr th {\n",
       "        vertical-align: top;\n",
       "    }\n",
       "\n",
       "    .dataframe thead th {\n",
       "        text-align: right;\n",
       "    }\n",
       "</style>\n",
       "<table border=\"1\" class=\"dataframe\">\n",
       "  <thead>\n",
       "    <tr style=\"text-align: right;\">\n",
       "      <th></th>\n",
       "      <th>review_text</th>\n",
       "      <th>n_votes</th>\n",
       "    </tr>\n",
       "  </thead>\n",
       "  <tbody>\n",
       "    <tr>\n",
       "      <th>0</th>\n",
       "      <td>** spoiler alert ** \\n This is definitely one ...</td>\n",
       "      <td>1</td>\n",
       "    </tr>\n",
       "    <tr>\n",
       "      <th>1</th>\n",
       "      <td>** spoiler alert ** \\n \"You are what you drink...</td>\n",
       "      <td>1</td>\n",
       "    </tr>\n",
       "    <tr>\n",
       "      <th>2</th>\n",
       "      <td>Roar is one of my favorite characters in Under...</td>\n",
       "      <td>0</td>\n",
       "    </tr>\n",
       "    <tr>\n",
       "      <th>3</th>\n",
       "      <td>** spoiler alert ** \\n If you feel like travel...</td>\n",
       "      <td>0</td>\n",
       "    </tr>\n",
       "    <tr>\n",
       "      <th>4</th>\n",
       "      <td>3.5 stars \\n I read and enjoyed the first two ...</td>\n",
       "      <td>0</td>\n",
       "    </tr>\n",
       "    <tr>\n",
       "      <th>...</th>\n",
       "      <td>...</td>\n",
       "      <td>...</td>\n",
       "    </tr>\n",
       "    <tr>\n",
       "      <th>478028</th>\n",
       "      <td>Can't wait for Travis' POV \\n Travis Before Ab...</td>\n",
       "      <td>0</td>\n",
       "    </tr>\n",
       "    <tr>\n",
       "      <th>478029</th>\n",
       "      <td>Had this on my to-read shelf forever. Will upd...</td>\n",
       "      <td>0</td>\n",
       "    </tr>\n",
       "    <tr>\n",
       "      <th>478030</th>\n",
       "      <td>The last book left me wanting for more. I need...</td>\n",
       "      <td>0</td>\n",
       "    </tr>\n",
       "    <tr>\n",
       "      <th>478031</th>\n",
       "      <td>Things are heating up in the second novel of I...</td>\n",
       "      <td>0</td>\n",
       "    </tr>\n",
       "    <tr>\n",
       "      <th>478032</th>\n",
       "      <td>Before I even start this review, I must say th...</td>\n",
       "      <td>0</td>\n",
       "    </tr>\n",
       "  </tbody>\n",
       "</table>\n",
       "<p>478033 rows × 2 columns</p>\n",
       "</div>"
      ],
      "text/plain": [
       "                                              review_text  n_votes\n",
       "0       ** spoiler alert ** \\n This is definitely one ...        1\n",
       "1       ** spoiler alert ** \\n \"You are what you drink...        1\n",
       "2       Roar is one of my favorite characters in Under...        0\n",
       "3       ** spoiler alert ** \\n If you feel like travel...        0\n",
       "4       3.5 stars \\n I read and enjoyed the first two ...        0\n",
       "...                                                   ...      ...\n",
       "478028  Can't wait for Travis' POV \\n Travis Before Ab...        0\n",
       "478029  Had this on my to-read shelf forever. Will upd...        0\n",
       "478030  The last book left me wanting for more. I need...        0\n",
       "478031  Things are heating up in the second novel of I...        0\n",
       "478032  Before I even start this review, I must say th...        0\n",
       "\n",
       "[478033 rows x 2 columns]"
      ]
     },
     "execution_count": 16,
     "metadata": {},
     "output_type": "execute_result"
    }
   ],
   "source": [
    "test"
   ]
  },
  {
   "cell_type": "code",
   "execution_count": 17,
   "id": "78ed820b",
   "metadata": {
    "execution": {
     "iopub.execute_input": "2023-01-07T16:45:17.840739Z",
     "iopub.status.busy": "2023-01-07T16:45:17.840318Z",
     "iopub.status.idle": "2023-01-07T16:45:17.928613Z",
     "shell.execute_reply": "2023-01-07T16:45:17.927619Z"
    },
    "papermill": {
     "duration": 0.111095,
     "end_time": "2023-01-07T16:45:17.931705",
     "exception": false,
     "start_time": "2023-01-07T16:45:17.820610",
     "status": "completed"
    },
    "tags": []
   },
   "outputs": [],
   "source": [
    "#Remove Hashtags\n",
    "train['review_text'].replace( { r\"#(\\w+)\" : '' }, inplace= True, regex = True)\n",
    "\n",
    "#Remove Mention\n",
    "train['review_text'].replace( { r\"@(\\w+)\" : '' }, inplace= True, regex = True)\n",
    "\n",
    "#Remove URL\n",
    "train['review_text'].astype(str).replace( { r\"http\\S+\" : '' }, inplace= True, regex = True)\n",
    "\n",
    "train['review_text']=train['review_text'].str.lower()"
   ]
  },
  {
   "cell_type": "code",
   "execution_count": 18,
   "id": "5371f967",
   "metadata": {
    "execution": {
     "iopub.execute_input": "2023-01-07T16:45:17.970465Z",
     "iopub.status.busy": "2023-01-07T16:45:17.970066Z",
     "iopub.status.idle": "2023-01-07T16:45:22.536137Z",
     "shell.execute_reply": "2023-01-07T16:45:22.534939Z"
    },
    "papermill": {
     "duration": 4.593707,
     "end_time": "2023-01-07T16:45:22.544029",
     "exception": false,
     "start_time": "2023-01-07T16:45:17.950322",
     "status": "completed"
    },
    "tags": []
   },
   "outputs": [],
   "source": [
    "#Remove Hashtags\n",
    "test['review_text'].replace( { r\"#(\\w+)\" : '' }, inplace= True, regex = True)\n",
    "\n",
    "#Remove Mention\n",
    "test['review_text'].replace( { r\"@(\\w+)\" : '' }, inplace= True, regex = True)\n",
    "\n",
    "#Remove URL\n",
    "test['review_text'].astype(str).replace( { r\"http\\S+\" : '' }, inplace= True, regex = True)\n",
    "\n",
    "test['review_text'] = test['review_text'].str.lower()"
   ]
  },
  {
   "cell_type": "code",
   "execution_count": 19,
   "id": "cd88b544",
   "metadata": {
    "execution": {
     "iopub.execute_input": "2023-01-07T16:45:22.584171Z",
     "iopub.status.busy": "2023-01-07T16:45:22.583782Z",
     "iopub.status.idle": "2023-01-07T16:45:23.167428Z",
     "shell.execute_reply": "2023-01-07T16:45:23.166503Z"
    },
    "papermill": {
     "duration": 0.606739,
     "end_time": "2023-01-07T16:45:23.170149",
     "exception": false,
     "start_time": "2023-01-07T16:45:22.563410",
     "status": "completed"
    },
    "tags": []
   },
   "outputs": [],
   "source": [
    "# Import stopwords with nltk.\n",
    "from nltk.corpus import stopwords\n",
    "stop = stopwords.words('english')"
   ]
  },
  {
   "cell_type": "code",
   "execution_count": 20,
   "id": "2a353363",
   "metadata": {
    "execution": {
     "iopub.execute_input": "2023-01-07T16:45:23.208453Z",
     "iopub.status.busy": "2023-01-07T16:45:23.207360Z",
     "iopub.status.idle": "2023-01-07T16:48:50.228122Z",
     "shell.execute_reply": "2023-01-07T16:48:50.226648Z"
    },
    "papermill": {
     "duration": 207.043061,
     "end_time": "2023-01-07T16:48:50.231261",
     "exception": false,
     "start_time": "2023-01-07T16:45:23.188200",
     "status": "completed"
    },
    "tags": []
   },
   "outputs": [],
   "source": [
    "train['review_text'] = train['review_text'].apply(lambda x: ' '.join([word for word in x.split() if word not in (stop)]))\n",
    "\n",
    "test['review_text'] = test['review_text'].apply(lambda x: ' '.join([word for word in x.split() if word not in (stop)]))"
   ]
  },
  {
   "cell_type": "code",
   "execution_count": 21,
   "id": "6ec88158",
   "metadata": {
    "execution": {
     "iopub.execute_input": "2023-01-07T16:48:50.271300Z",
     "iopub.status.busy": "2023-01-07T16:48:50.270826Z",
     "iopub.status.idle": "2023-01-07T16:48:50.281805Z",
     "shell.execute_reply": "2023-01-07T16:48:50.280674Z"
    },
    "papermill": {
     "duration": 0.033701,
     "end_time": "2023-01-07T16:48:50.284198",
     "exception": false,
     "start_time": "2023-01-07T16:48:50.250497",
     "status": "completed"
    },
    "tags": []
   },
   "outputs": [
    {
     "data": {
      "text/html": [
       "<div>\n",
       "<style scoped>\n",
       "    .dataframe tbody tr th:only-of-type {\n",
       "        vertical-align: middle;\n",
       "    }\n",
       "\n",
       "    .dataframe tbody tr th {\n",
       "        vertical-align: top;\n",
       "    }\n",
       "\n",
       "    .dataframe thead th {\n",
       "        text-align: right;\n",
       "    }\n",
       "</style>\n",
       "<table border=\"1\" class=\"dataframe\">\n",
       "  <thead>\n",
       "    <tr style=\"text-align: right;\">\n",
       "      <th></th>\n",
       "      <th>rating</th>\n",
       "      <th>review_text</th>\n",
       "    </tr>\n",
       "  </thead>\n",
       "  <tbody>\n",
       "    <tr>\n",
       "      <th>3</th>\n",
       "      <td>0</td>\n",
       "      <td>recommended reading understand going middle am...</td>\n",
       "    </tr>\n",
       "    <tr>\n",
       "      <th>7</th>\n",
       "      <td>0</td>\n",
       "      <td>numerous people publishing told book year.</td>\n",
       "    </tr>\n",
       "    <tr>\n",
       "      <th>13</th>\n",
       "      <td>0</td>\n",
       "      <td>recommended david risher</td>\n",
       "    </tr>\n",
       "    <tr>\n",
       "      <th>54</th>\n",
       "      <td>0</td>\n",
       "      <td>well melanie says bbe, gotta check out...</td>\n",
       "    </tr>\n",
       "    <tr>\n",
       "      <th>58</th>\n",
       "      <td>0</td>\n",
       "      <td>steve recommends it, must good!</td>\n",
       "    </tr>\n",
       "  </tbody>\n",
       "</table>\n",
       "</div>"
      ],
      "text/plain": [
       "    rating                                        review_text\n",
       "3        0  recommended reading understand going middle am...\n",
       "7        0         numerous people publishing told book year.\n",
       "13       0                           recommended david risher\n",
       "54       0          well melanie says bbe, gotta check out...\n",
       "58       0                    steve recommends it, must good!"
      ]
     },
     "execution_count": 21,
     "metadata": {},
     "output_type": "execute_result"
    }
   ],
   "source": [
    "train.head()"
   ]
  },
  {
   "cell_type": "code",
   "execution_count": 22,
   "id": "935d59d3",
   "metadata": {
    "execution": {
     "iopub.execute_input": "2023-01-07T16:48:50.322600Z",
     "iopub.status.busy": "2023-01-07T16:48:50.322207Z",
     "iopub.status.idle": "2023-01-07T16:48:50.333058Z",
     "shell.execute_reply": "2023-01-07T16:48:50.331503Z"
    },
    "papermill": {
     "duration": 0.032847,
     "end_time": "2023-01-07T16:48:50.335402",
     "exception": false,
     "start_time": "2023-01-07T16:48:50.302555",
     "status": "completed"
    },
    "tags": []
   },
   "outputs": [
    {
     "data": {
      "text/html": [
       "<div>\n",
       "<style scoped>\n",
       "    .dataframe tbody tr th:only-of-type {\n",
       "        vertical-align: middle;\n",
       "    }\n",
       "\n",
       "    .dataframe tbody tr th {\n",
       "        vertical-align: top;\n",
       "    }\n",
       "\n",
       "    .dataframe thead th {\n",
       "        text-align: right;\n",
       "    }\n",
       "</style>\n",
       "<table border=\"1\" class=\"dataframe\">\n",
       "  <thead>\n",
       "    <tr style=\"text-align: right;\">\n",
       "      <th></th>\n",
       "      <th>review_text</th>\n",
       "      <th>n_votes</th>\n",
       "    </tr>\n",
       "  </thead>\n",
       "  <tbody>\n",
       "    <tr>\n",
       "      <th>0</th>\n",
       "      <td>** spoiler alert ** definitely one favorites a...</td>\n",
       "      <td>1</td>\n",
       "    </tr>\n",
       "    <tr>\n",
       "      <th>1</th>\n",
       "      <td>** spoiler alert ** \"you drink.\" i'm huge fan ...</td>\n",
       "      <td>1</td>\n",
       "    </tr>\n",
       "    <tr>\n",
       "      <th>2</th>\n",
       "      <td>roar one favorite characters never sky i'm hap...</td>\n",
       "      <td>0</td>\n",
       "    </tr>\n",
       "    <tr>\n",
       "      <th>3</th>\n",
       "      <td>** spoiler alert ** feel like travelling europ...</td>\n",
       "      <td>0</td>\n",
       "    </tr>\n",
       "    <tr>\n",
       "      <th>4</th>\n",
       "      <td>3.5 stars read enjoyed first two novels series...</td>\n",
       "      <td>0</td>\n",
       "    </tr>\n",
       "  </tbody>\n",
       "</table>\n",
       "</div>"
      ],
      "text/plain": [
       "                                         review_text  n_votes\n",
       "0  ** spoiler alert ** definitely one favorites a...        1\n",
       "1  ** spoiler alert ** \"you drink.\" i'm huge fan ...        1\n",
       "2  roar one favorite characters never sky i'm hap...        0\n",
       "3  ** spoiler alert ** feel like travelling europ...        0\n",
       "4  3.5 stars read enjoyed first two novels series...        0"
      ]
     },
     "execution_count": 22,
     "metadata": {},
     "output_type": "execute_result"
    }
   ],
   "source": [
    "test.head()"
   ]
  },
  {
   "cell_type": "code",
   "execution_count": 23,
   "id": "ad70056f",
   "metadata": {
    "execution": {
     "iopub.execute_input": "2023-01-07T16:48:50.374430Z",
     "iopub.status.busy": "2023-01-07T16:48:50.374018Z",
     "iopub.status.idle": "2023-01-07T16:48:50.380593Z",
     "shell.execute_reply": "2023-01-07T16:48:50.379559Z"
    },
    "papermill": {
     "duration": 0.02933,
     "end_time": "2023-01-07T16:48:50.383000",
     "exception": false,
     "start_time": "2023-01-07T16:48:50.353670",
     "status": "completed"
    },
    "tags": []
   },
   "outputs": [
    {
     "data": {
      "text/plain": [
       "(8997, 2)"
      ]
     },
     "execution_count": 23,
     "metadata": {},
     "output_type": "execute_result"
    }
   ],
   "source": [
    "train.shape"
   ]
  },
  {
   "cell_type": "code",
   "execution_count": 24,
   "id": "560a48df",
   "metadata": {
    "execution": {
     "iopub.execute_input": "2023-01-07T16:48:50.421396Z",
     "iopub.status.busy": "2023-01-07T16:48:50.421014Z",
     "iopub.status.idle": "2023-01-07T16:48:50.427078Z",
     "shell.execute_reply": "2023-01-07T16:48:50.426281Z"
    },
    "papermill": {
     "duration": 0.027904,
     "end_time": "2023-01-07T16:48:50.429154",
     "exception": false,
     "start_time": "2023-01-07T16:48:50.401250",
     "status": "completed"
    },
    "tags": []
   },
   "outputs": [
    {
     "data": {
      "text/plain": [
       "(478033, 2)"
      ]
     },
     "execution_count": 24,
     "metadata": {},
     "output_type": "execute_result"
    }
   ],
   "source": [
    "test.shape"
   ]
  },
  {
   "cell_type": "code",
   "execution_count": 25,
   "id": "6c907943",
   "metadata": {
    "execution": {
     "iopub.execute_input": "2023-01-07T16:48:50.467730Z",
     "iopub.status.busy": "2023-01-07T16:48:50.467329Z",
     "iopub.status.idle": "2023-01-07T16:48:50.478996Z",
     "shell.execute_reply": "2023-01-07T16:48:50.477835Z"
    },
    "papermill": {
     "duration": 0.03376,
     "end_time": "2023-01-07T16:48:50.481428",
     "exception": false,
     "start_time": "2023-01-07T16:48:50.447668",
     "status": "completed"
    },
    "tags": []
   },
   "outputs": [
    {
     "data": {
      "text/plain": [
       "4    3136\n",
       "5    2650\n",
       "3    1889\n",
       "2     726\n",
       "0     309\n",
       "1     287\n",
       "Name: rating, dtype: int64"
      ]
     },
     "execution_count": 25,
     "metadata": {},
     "output_type": "execute_result"
    }
   ],
   "source": [
    "train['rating'].value_counts()"
   ]
  },
  {
   "cell_type": "code",
   "execution_count": 26,
   "id": "1c0178c0",
   "metadata": {
    "execution": {
     "iopub.execute_input": "2023-01-07T16:48:50.520998Z",
     "iopub.status.busy": "2023-01-07T16:48:50.520556Z",
     "iopub.status.idle": "2023-01-07T16:48:50.530693Z",
     "shell.execute_reply": "2023-01-07T16:48:50.529859Z"
    },
    "papermill": {
     "duration": 0.032858,
     "end_time": "2023-01-07T16:48:50.532971",
     "exception": false,
     "start_time": "2023-01-07T16:48:50.500113",
     "status": "completed"
    },
    "tags": []
   },
   "outputs": [],
   "source": [
    "X_temp, X_test, y_temp, y_test = train_test_split(train, list(train.rating), test_size=0.2, random_state=0)"
   ]
  },
  {
   "cell_type": "code",
   "execution_count": 27,
   "id": "4e3614b1",
   "metadata": {
    "execution": {
     "iopub.execute_input": "2023-01-07T16:48:50.572871Z",
     "iopub.status.busy": "2023-01-07T16:48:50.572209Z",
     "iopub.status.idle": "2023-01-07T16:48:50.579308Z",
     "shell.execute_reply": "2023-01-07T16:48:50.578471Z"
    },
    "papermill": {
     "duration": 0.029471,
     "end_time": "2023-01-07T16:48:50.581463",
     "exception": false,
     "start_time": "2023-01-07T16:48:50.551992",
     "status": "completed"
    },
    "tags": []
   },
   "outputs": [],
   "source": [
    "X_temp['rating'] = y_temp"
   ]
  },
  {
   "cell_type": "code",
   "execution_count": 28,
   "id": "4d41602c",
   "metadata": {
    "execution": {
     "iopub.execute_input": "2023-01-07T16:48:50.622192Z",
     "iopub.status.busy": "2023-01-07T16:48:50.621366Z",
     "iopub.status.idle": "2023-01-07T16:48:50.632291Z",
     "shell.execute_reply": "2023-01-07T16:48:50.631215Z"
    },
    "papermill": {
     "duration": 0.033913,
     "end_time": "2023-01-07T16:48:50.634601",
     "exception": false,
     "start_time": "2023-01-07T16:48:50.600688",
     "status": "completed"
    },
    "tags": []
   },
   "outputs": [
    {
     "data": {
      "text/html": [
       "<div>\n",
       "<style scoped>\n",
       "    .dataframe tbody tr th:only-of-type {\n",
       "        vertical-align: middle;\n",
       "    }\n",
       "\n",
       "    .dataframe tbody tr th {\n",
       "        vertical-align: top;\n",
       "    }\n",
       "\n",
       "    .dataframe thead th {\n",
       "        text-align: right;\n",
       "    }\n",
       "</style>\n",
       "<table border=\"1\" class=\"dataframe\">\n",
       "  <thead>\n",
       "    <tr style=\"text-align: right;\">\n",
       "      <th></th>\n",
       "      <th>rating</th>\n",
       "      <th>review_text</th>\n",
       "    </tr>\n",
       "  </thead>\n",
       "  <tbody>\n",
       "    <tr>\n",
       "      <th>8590</th>\n",
       "      <td>0</td>\n",
       "      <td>sounds terrible, sign</td>\n",
       "    </tr>\n",
       "    <tr>\n",
       "      <th>7056</th>\n",
       "      <td>4</td>\n",
       "      <td>new turn events quite unexpected.</td>\n",
       "    </tr>\n",
       "    <tr>\n",
       "      <th>9579</th>\n",
       "      <td>1</td>\n",
       "      <td>i'll repeat fountainhead review here..... used...</td>\n",
       "    </tr>\n",
       "    <tr>\n",
       "      <th>7071</th>\n",
       "      <td>5</td>\n",
       "      <td>still wonderful remember.</td>\n",
       "    </tr>\n",
       "    <tr>\n",
       "      <th>8160</th>\n",
       "      <td>2</td>\n",
       "      <td>short predictable read woman escapes abusive h...</td>\n",
       "    </tr>\n",
       "  </tbody>\n",
       "</table>\n",
       "</div>"
      ],
      "text/plain": [
       "      rating                                        review_text\n",
       "8590       0                              sounds terrible, sign\n",
       "7056       4                  new turn events quite unexpected.\n",
       "9579       1  i'll repeat fountainhead review here..... used...\n",
       "7071       5                          still wonderful remember.\n",
       "8160       2  short predictable read woman escapes abusive h..."
      ]
     },
     "execution_count": 28,
     "metadata": {},
     "output_type": "execute_result"
    }
   ],
   "source": [
    "X_temp.head()"
   ]
  },
  {
   "cell_type": "code",
   "execution_count": 29,
   "id": "83bb2714",
   "metadata": {
    "execution": {
     "iopub.execute_input": "2023-01-07T16:48:50.675829Z",
     "iopub.status.busy": "2023-01-07T16:48:50.674921Z",
     "iopub.status.idle": "2023-01-07T16:48:50.683389Z",
     "shell.execute_reply": "2023-01-07T16:48:50.682379Z"
    },
    "papermill": {
     "duration": 0.031466,
     "end_time": "2023-01-07T16:48:50.685605",
     "exception": false,
     "start_time": "2023-01-07T16:48:50.654139",
     "status": "completed"
    },
    "tags": []
   },
   "outputs": [
    {
     "data": {
      "text/plain": [
       "240"
      ]
     },
     "execution_count": 29,
     "metadata": {},
     "output_type": "execute_result"
    }
   ],
   "source": [
    "zero = X_temp[X_temp['rating'] == 0]\n",
    "zero.shape[0]"
   ]
  },
  {
   "cell_type": "code",
   "execution_count": 30,
   "id": "7ef38981",
   "metadata": {
    "execution": {
     "iopub.execute_input": "2023-01-07T16:48:50.726566Z",
     "iopub.status.busy": "2023-01-07T16:48:50.725461Z",
     "iopub.status.idle": "2023-01-07T16:48:50.733349Z",
     "shell.execute_reply": "2023-01-07T16:48:50.732466Z"
    },
    "papermill": {
     "duration": 0.030673,
     "end_time": "2023-01-07T16:48:50.735426",
     "exception": false,
     "start_time": "2023-01-07T16:48:50.704753",
     "status": "completed"
    },
    "tags": []
   },
   "outputs": [
    {
     "data": {
      "text/plain": [
       "231"
      ]
     },
     "execution_count": 30,
     "metadata": {},
     "output_type": "execute_result"
    }
   ],
   "source": [
    "one = X_temp[X_temp['rating'] == 1]\n",
    "one.shape[0]"
   ]
  },
  {
   "cell_type": "code",
   "execution_count": 31,
   "id": "c6979280",
   "metadata": {
    "execution": {
     "iopub.execute_input": "2023-01-07T16:48:50.776246Z",
     "iopub.status.busy": "2023-01-07T16:48:50.775157Z",
     "iopub.status.idle": "2023-01-07T16:48:50.783812Z",
     "shell.execute_reply": "2023-01-07T16:48:50.782724Z"
    },
    "papermill": {
     "duration": 0.031101,
     "end_time": "2023-01-07T16:48:50.786041",
     "exception": false,
     "start_time": "2023-01-07T16:48:50.754940",
     "status": "completed"
    },
    "tags": []
   },
   "outputs": [
    {
     "data": {
      "text/plain": [
       "586"
      ]
     },
     "execution_count": 31,
     "metadata": {},
     "output_type": "execute_result"
    }
   ],
   "source": [
    "two = X_temp[X_temp['rating'] == 2]\n",
    "two.shape[0]"
   ]
  },
  {
   "cell_type": "code",
   "execution_count": 32,
   "id": "40ee028f",
   "metadata": {
    "execution": {
     "iopub.execute_input": "2023-01-07T16:48:50.826693Z",
     "iopub.status.busy": "2023-01-07T16:48:50.825920Z",
     "iopub.status.idle": "2023-01-07T16:48:50.834027Z",
     "shell.execute_reply": "2023-01-07T16:48:50.833151Z"
    },
    "papermill": {
     "duration": 0.031016,
     "end_time": "2023-01-07T16:48:50.836220",
     "exception": false,
     "start_time": "2023-01-07T16:48:50.805204",
     "status": "completed"
    },
    "tags": []
   },
   "outputs": [
    {
     "data": {
      "text/plain": [
       "1521"
      ]
     },
     "execution_count": 32,
     "metadata": {},
     "output_type": "execute_result"
    }
   ],
   "source": [
    "three = X_temp[X_temp['rating'] == 3]\n",
    "three.shape[0]"
   ]
  },
  {
   "cell_type": "code",
   "execution_count": 33,
   "id": "0ddcd223",
   "metadata": {
    "execution": {
     "iopub.execute_input": "2023-01-07T16:48:50.877577Z",
     "iopub.status.busy": "2023-01-07T16:48:50.876800Z",
     "iopub.status.idle": "2023-01-07T16:48:50.884806Z",
     "shell.execute_reply": "2023-01-07T16:48:50.883953Z"
    },
    "papermill": {
     "duration": 0.031254,
     "end_time": "2023-01-07T16:48:50.887012",
     "exception": false,
     "start_time": "2023-01-07T16:48:50.855758",
     "status": "completed"
    },
    "tags": []
   },
   "outputs": [
    {
     "data": {
      "text/plain": [
       "2507"
      ]
     },
     "execution_count": 33,
     "metadata": {},
     "output_type": "execute_result"
    }
   ],
   "source": [
    "four = X_temp[X_temp['rating'] == 4]\n",
    "four.shape[0]"
   ]
  },
  {
   "cell_type": "code",
   "execution_count": 34,
   "id": "71b95bc8",
   "metadata": {
    "execution": {
     "iopub.execute_input": "2023-01-07T16:48:50.927517Z",
     "iopub.status.busy": "2023-01-07T16:48:50.926688Z",
     "iopub.status.idle": "2023-01-07T16:48:50.934730Z",
     "shell.execute_reply": "2023-01-07T16:48:50.933853Z"
    },
    "papermill": {
     "duration": 0.030946,
     "end_time": "2023-01-07T16:48:50.936972",
     "exception": false,
     "start_time": "2023-01-07T16:48:50.906026",
     "status": "completed"
    },
    "tags": []
   },
   "outputs": [
    {
     "data": {
      "text/plain": [
       "2112"
      ]
     },
     "execution_count": 34,
     "metadata": {},
     "output_type": "execute_result"
    }
   ],
   "source": [
    "five = X_temp[X_temp['rating'] == 5]\n",
    "five.shape[0]"
   ]
  },
  {
   "cell_type": "code",
   "execution_count": 35,
   "id": "126e8480",
   "metadata": {
    "execution": {
     "iopub.execute_input": "2023-01-07T16:48:50.978101Z",
     "iopub.status.busy": "2023-01-07T16:48:50.977302Z",
     "iopub.status.idle": "2023-01-07T16:48:50.992169Z",
     "shell.execute_reply": "2023-01-07T16:48:50.991101Z"
    },
    "papermill": {
     "duration": 0.038161,
     "end_time": "2023-01-07T16:48:50.994390",
     "exception": false,
     "start_time": "2023-01-07T16:48:50.956229",
     "status": "completed"
    },
    "tags": []
   },
   "outputs": [
    {
     "data": {
      "text/html": [
       "<div>\n",
       "<style scoped>\n",
       "    .dataframe tbody tr th:only-of-type {\n",
       "        vertical-align: middle;\n",
       "    }\n",
       "\n",
       "    .dataframe tbody tr th {\n",
       "        vertical-align: top;\n",
       "    }\n",
       "\n",
       "    .dataframe thead th {\n",
       "        text-align: right;\n",
       "    }\n",
       "</style>\n",
       "<table border=\"1\" class=\"dataframe\">\n",
       "  <thead>\n",
       "    <tr style=\"text-align: right;\">\n",
       "      <th></th>\n",
       "      <th>rating</th>\n",
       "      <th>review_text</th>\n",
       "    </tr>\n",
       "  </thead>\n",
       "  <tbody>\n",
       "    <tr>\n",
       "      <th>8590</th>\n",
       "      <td>0</td>\n",
       "      <td>sounds terrible, sign</td>\n",
       "    </tr>\n",
       "    <tr>\n",
       "      <th>12984</th>\n",
       "      <td>0</td>\n",
       "      <td>2016 decent far reading went. stinker there, t...</td>\n",
       "    </tr>\n",
       "    <tr>\n",
       "      <th>1024</th>\n",
       "      <td>0</td>\n",
       "      <td>took little book hit stride, really took off. ...</td>\n",
       "    </tr>\n",
       "    <tr>\n",
       "      <th>4945</th>\n",
       "      <td>0</td>\n",
       "      <td>julie kagawa, know writing magic here... writi...</td>\n",
       "    </tr>\n",
       "    <tr>\n",
       "      <th>9092</th>\n",
       "      <td>0</td>\n",
       "      <td>idea why, synopsis reminds gallagher girls ser...</td>\n",
       "    </tr>\n",
       "    <tr>\n",
       "      <th>...</th>\n",
       "      <td>...</td>\n",
       "      <td>...</td>\n",
       "    </tr>\n",
       "    <tr>\n",
       "      <th>4566</th>\n",
       "      <td>5</td>\n",
       "      <td>uncensored conversation goodreads miriam: full...</td>\n",
       "    </tr>\n",
       "    <tr>\n",
       "      <th>1520</th>\n",
       "      <td>5</td>\n",
       "      <td>4.5 stars! vanya petrov survived targeted atta...</td>\n",
       "    </tr>\n",
       "    <tr>\n",
       "      <th>4308</th>\n",
       "      <td>5</td>\n",
       "      <td>ok understand hype behind series novella parti...</td>\n",
       "    </tr>\n",
       "    <tr>\n",
       "      <th>915</th>\n",
       "      <td>5</td>\n",
       "      <td>whew, ride. really enjoyed book much first. re...</td>\n",
       "    </tr>\n",
       "    <tr>\n",
       "      <th>4591</th>\n",
       "      <td>5</td>\n",
       "      <td>\"i feel existence wrapping hand around soul, c...</td>\n",
       "    </tr>\n",
       "  </tbody>\n",
       "</table>\n",
       "<p>7197 rows × 2 columns</p>\n",
       "</div>"
      ],
      "text/plain": [
       "       rating                                        review_text\n",
       "8590        0                              sounds terrible, sign\n",
       "12984       0  2016 decent far reading went. stinker there, t...\n",
       "1024        0  took little book hit stride, really took off. ...\n",
       "4945        0  julie kagawa, know writing magic here... writi...\n",
       "9092        0  idea why, synopsis reminds gallagher girls ser...\n",
       "...       ...                                                ...\n",
       "4566        5  uncensored conversation goodreads miriam: full...\n",
       "1520        5  4.5 stars! vanya petrov survived targeted atta...\n",
       "4308        5  ok understand hype behind series novella parti...\n",
       "915         5  whew, ride. really enjoyed book much first. re...\n",
       "4591        5  \"i feel existence wrapping hand around soul, c...\n",
       "\n",
       "[7197 rows x 2 columns]"
      ]
     },
     "execution_count": 35,
     "metadata": {},
     "output_type": "execute_result"
    }
   ],
   "source": [
    "ds = pd.concat([zero,one,two,three,four,five], axis = 0)\n",
    "ds"
   ]
  },
  {
   "cell_type": "code",
   "execution_count": 36,
   "id": "e666ecb3",
   "metadata": {
    "execution": {
     "iopub.execute_input": "2023-01-07T16:48:51.035888Z",
     "iopub.status.busy": "2023-01-07T16:48:51.035243Z",
     "iopub.status.idle": "2023-01-07T16:48:51.042912Z",
     "shell.execute_reply": "2023-01-07T16:48:51.042015Z"
    },
    "papermill": {
     "duration": 0.030825,
     "end_time": "2023-01-07T16:48:51.044976",
     "exception": false,
     "start_time": "2023-01-07T16:48:51.014151",
     "status": "completed"
    },
    "tags": []
   },
   "outputs": [
    {
     "data": {
      "text/plain": [
       "(1800, 2)"
      ]
     },
     "execution_count": 36,
     "metadata": {},
     "output_type": "execute_result"
    }
   ],
   "source": [
    "testdf = X_test\n",
    "testdf['rating'] = y_test\n",
    "testdf.shape"
   ]
  },
  {
   "cell_type": "code",
   "execution_count": 37,
   "id": "32d3629e",
   "metadata": {
    "execution": {
     "iopub.execute_input": "2023-01-07T16:48:51.086817Z",
     "iopub.status.busy": "2023-01-07T16:48:51.086114Z",
     "iopub.status.idle": "2023-01-07T16:48:51.092655Z",
     "shell.execute_reply": "2023-01-07T16:48:51.091849Z"
    },
    "papermill": {
     "duration": 0.030234,
     "end_time": "2023-01-07T16:48:51.094881",
     "exception": false,
     "start_time": "2023-01-07T16:48:51.064647",
     "status": "completed"
    },
    "tags": []
   },
   "outputs": [],
   "source": [
    "ds = pd.concat([ds, testdf], axis = 0)"
   ]
  },
  {
   "cell_type": "code",
   "execution_count": 38,
   "id": "b58c3a25",
   "metadata": {
    "execution": {
     "iopub.execute_input": "2023-01-07T16:48:51.136348Z",
     "iopub.status.busy": "2023-01-07T16:48:51.135667Z",
     "iopub.status.idle": "2023-01-07T16:48:51.148071Z",
     "shell.execute_reply": "2023-01-07T16:48:51.147075Z"
    },
    "papermill": {
     "duration": 0.035692,
     "end_time": "2023-01-07T16:48:51.150183",
     "exception": false,
     "start_time": "2023-01-07T16:48:51.114491",
     "status": "completed"
    },
    "tags": []
   },
   "outputs": [
    {
     "data": {
      "text/plain": [
       "((309, 2), (287, 2), (726, 2), (1889, 2), (3136, 2), (2650, 2))"
      ]
     },
     "execution_count": 38,
     "metadata": {},
     "output_type": "execute_result"
    }
   ],
   "source": [
    "ds[ds['rating']==0].shape, ds[ds['rating']==1].shape, ds[ds['rating']==2].shape, ds[ds['rating']==3].shape, ds[ds['rating']==4].shape, ds[ds['rating']==5].shape"
   ]
  },
  {
   "cell_type": "code",
   "execution_count": 39,
   "id": "76fffc5e",
   "metadata": {
    "execution": {
     "iopub.execute_input": "2023-01-07T16:48:51.192040Z",
     "iopub.status.busy": "2023-01-07T16:48:51.191354Z",
     "iopub.status.idle": "2023-01-07T16:48:52.214521Z",
     "shell.execute_reply": "2023-01-07T16:48:52.213276Z"
    },
    "papermill": {
     "duration": 1.047637,
     "end_time": "2023-01-07T16:48:52.217533",
     "exception": false,
     "start_time": "2023-01-07T16:48:51.169896",
     "status": "completed"
    },
    "tags": []
   },
   "outputs": [],
   "source": [
    "corpus = []\n",
    "for i in range(ds.shape[0]):\n",
    "    corpus.append(ds.iloc[i][0])"
   ]
  },
  {
   "cell_type": "code",
   "execution_count": 40,
   "id": "ee71ce38",
   "metadata": {
    "execution": {
     "iopub.execute_input": "2023-01-07T16:48:52.259994Z",
     "iopub.status.busy": "2023-01-07T16:48:52.259518Z",
     "iopub.status.idle": "2023-01-07T16:48:55.799313Z",
     "shell.execute_reply": "2023-01-07T16:48:55.798024Z"
    },
    "papermill": {
     "duration": 3.565472,
     "end_time": "2023-01-07T16:48:55.802928",
     "exception": false,
     "start_time": "2023-01-07T16:48:52.237456",
     "status": "completed"
    },
    "tags": []
   },
   "outputs": [
    {
     "name": "stderr",
     "output_type": "stream",
     "text": [
      "/opt/conda/lib/python3.7/site-packages/sklearn/utils/deprecation.py:87: FutureWarning: Function get_feature_names is deprecated; get_feature_names is deprecated in 1.0 and will be removed in 1.2. Please use get_feature_names_out instead.\n",
      "  warnings.warn(msg, category=FutureWarning)\n"
     ]
    }
   ],
   "source": [
    "vectorizer1 = TfidfVectorizer(max_features=1000)\n",
    "X1 = vectorizer1.fit_transform(ds['review_text'])\n",
    "feature_names1 = vectorizer1.get_feature_names()\n",
    "denselist1 = X1.todense().tolist()\n",
    "df2_train = pd.DataFrame(denselist1, columns=feature_names1)"
   ]
  },
  {
   "cell_type": "code",
   "execution_count": 41,
   "id": "0ef82b7d",
   "metadata": {
    "execution": {
     "iopub.execute_input": "2023-01-07T16:48:55.852677Z",
     "iopub.status.busy": "2023-01-07T16:48:55.852021Z",
     "iopub.status.idle": "2023-01-07T16:48:55.861452Z",
     "shell.execute_reply": "2023-01-07T16:48:55.860570Z"
    },
    "papermill": {
     "duration": 0.033958,
     "end_time": "2023-01-07T16:48:55.863631",
     "exception": false,
     "start_time": "2023-01-07T16:48:55.829673",
     "status": "completed"
    },
    "tags": []
   },
   "outputs": [],
   "source": [
    "tdf = df2_train\n",
    "tdf['labelxyz'] = list(ds.rating)"
   ]
  },
  {
   "cell_type": "code",
   "execution_count": 42,
   "id": "57202df0",
   "metadata": {
    "execution": {
     "iopub.execute_input": "2023-01-07T16:48:55.904879Z",
     "iopub.status.busy": "2023-01-07T16:48:55.904426Z",
     "iopub.status.idle": "2023-01-07T16:48:55.964583Z",
     "shell.execute_reply": "2023-01-07T16:48:55.963719Z"
    },
    "papermill": {
     "duration": 0.084552,
     "end_time": "2023-01-07T16:48:55.967938",
     "exception": false,
     "start_time": "2023-01-07T16:48:55.883386",
     "status": "completed"
    },
    "tags": []
   },
   "outputs": [
    {
     "data": {
      "text/plain": [
       "(2650, 1001)"
      ]
     },
     "execution_count": 42,
     "metadata": {},
     "output_type": "execute_result"
    }
   ],
   "source": [
    "tdf_zero = tdf[tdf.labelxyz == 0]\n",
    "tdf_zero.shape\n",
    "\n",
    "tdf_one = tdf[tdf.labelxyz == 1]\n",
    "tdf_one.shape\n",
    "\n",
    "tdf_two = tdf[tdf.labelxyz == 2]\n",
    "tdf_two.shape\n",
    "\n",
    "tdf_three = tdf[tdf.labelxyz == 3]\n",
    "tdf_three.shape\n",
    "\n",
    "tdf_four = tdf[tdf.labelxyz == 4]\n",
    "tdf_four.shape\n",
    "\n",
    "tdf_five = tdf[tdf.labelxyz == 5]\n",
    "tdf_five.shape"
   ]
  },
  {
   "cell_type": "code",
   "execution_count": 43,
   "id": "975b34a5",
   "metadata": {
    "execution": {
     "iopub.execute_input": "2023-01-07T16:48:56.015306Z",
     "iopub.status.busy": "2023-01-07T16:48:56.014870Z",
     "iopub.status.idle": "2023-01-07T16:48:56.026490Z",
     "shell.execute_reply": "2023-01-07T16:48:56.025334Z"
    },
    "papermill": {
     "duration": 0.035442,
     "end_time": "2023-01-07T16:48:56.028886",
     "exception": false,
     "start_time": "2023-01-07T16:48:55.993444",
     "status": "completed"
    },
    "tags": []
   },
   "outputs": [],
   "source": [
    "X_train_zero = tdf_zero.sample(frac=0.9, random_state=0)\n",
    "X_test_zero = tdf_zero.drop(X_train_zero.index)"
   ]
  },
  {
   "cell_type": "code",
   "execution_count": 44,
   "id": "d6c0baf3",
   "metadata": {
    "execution": {
     "iopub.execute_input": "2023-01-07T16:48:56.073452Z",
     "iopub.status.busy": "2023-01-07T16:48:56.072788Z",
     "iopub.status.idle": "2023-01-07T16:48:56.083310Z",
     "shell.execute_reply": "2023-01-07T16:48:56.082104Z"
    },
    "papermill": {
     "duration": 0.036941,
     "end_time": "2023-01-07T16:48:56.085870",
     "exception": false,
     "start_time": "2023-01-07T16:48:56.048929",
     "status": "completed"
    },
    "tags": []
   },
   "outputs": [],
   "source": [
    "X_train_one = tdf_zero.sample(frac=0.9, random_state=0)\n",
    "X_test_one = tdf_zero.drop(X_train_one.index)"
   ]
  },
  {
   "cell_type": "code",
   "execution_count": 45,
   "id": "a75ef0b0",
   "metadata": {
    "execution": {
     "iopub.execute_input": "2023-01-07T16:48:56.128094Z",
     "iopub.status.busy": "2023-01-07T16:48:56.127643Z",
     "iopub.status.idle": "2023-01-07T16:48:56.141416Z",
     "shell.execute_reply": "2023-01-07T16:48:56.140593Z"
    },
    "papermill": {
     "duration": 0.037407,
     "end_time": "2023-01-07T16:48:56.143516",
     "exception": false,
     "start_time": "2023-01-07T16:48:56.106109",
     "status": "completed"
    },
    "tags": []
   },
   "outputs": [],
   "source": [
    "X_train_two = tdf_two.sample(frac=0.9, random_state=0)\n",
    "X_test_two = tdf_two.drop(X_train_two.index)"
   ]
  },
  {
   "cell_type": "code",
   "execution_count": 46,
   "id": "0eb290e0",
   "metadata": {
    "execution": {
     "iopub.execute_input": "2023-01-07T16:48:56.186586Z",
     "iopub.status.busy": "2023-01-07T16:48:56.185478Z",
     "iopub.status.idle": "2023-01-07T16:48:56.204717Z",
     "shell.execute_reply": "2023-01-07T16:48:56.203819Z"
    },
    "papermill": {
     "duration": 0.04366,
     "end_time": "2023-01-07T16:48:56.207218",
     "exception": false,
     "start_time": "2023-01-07T16:48:56.163558",
     "status": "completed"
    },
    "tags": []
   },
   "outputs": [],
   "source": [
    "X_train_three = tdf_three.sample(frac=0.9, random_state=0)\n",
    "X_test_three = tdf_three.drop(X_train_three.index)"
   ]
  },
  {
   "cell_type": "code",
   "execution_count": 47,
   "id": "09c1b12c",
   "metadata": {
    "execution": {
     "iopub.execute_input": "2023-01-07T16:48:56.249999Z",
     "iopub.status.busy": "2023-01-07T16:48:56.248941Z",
     "iopub.status.idle": "2023-01-07T16:48:56.277273Z",
     "shell.execute_reply": "2023-01-07T16:48:56.276260Z"
    },
    "papermill": {
     "duration": 0.05242,
     "end_time": "2023-01-07T16:48:56.279951",
     "exception": false,
     "start_time": "2023-01-07T16:48:56.227531",
     "status": "completed"
    },
    "tags": []
   },
   "outputs": [],
   "source": [
    "X_train_four = tdf_four.sample(frac=0.9, random_state=0)\n",
    "X_test_four = tdf_four.drop(X_train_four.index)"
   ]
  },
  {
   "cell_type": "code",
   "execution_count": 48,
   "id": "7af9b4b2",
   "metadata": {
    "execution": {
     "iopub.execute_input": "2023-01-07T16:48:56.322395Z",
     "iopub.status.busy": "2023-01-07T16:48:56.322001Z",
     "iopub.status.idle": "2023-01-07T16:48:56.351837Z",
     "shell.execute_reply": "2023-01-07T16:48:56.350567Z"
    },
    "papermill": {
     "duration": 0.053303,
     "end_time": "2023-01-07T16:48:56.354209",
     "exception": false,
     "start_time": "2023-01-07T16:48:56.300906",
     "status": "completed"
    },
    "tags": []
   },
   "outputs": [],
   "source": [
    "X_train_five = tdf_five.sample(frac=0.9, random_state=0)\n",
    "X_test_five = tdf_five.drop(X_train_five.index)"
   ]
  },
  {
   "cell_type": "code",
   "execution_count": 49,
   "id": "6ce391a4",
   "metadata": {
    "execution": {
     "iopub.execute_input": "2023-01-07T16:48:56.396201Z",
     "iopub.status.busy": "2023-01-07T16:48:56.395741Z",
     "iopub.status.idle": "2023-01-07T16:48:56.484448Z",
     "shell.execute_reply": "2023-01-07T16:48:56.483556Z"
    },
    "papermill": {
     "duration": 0.112843,
     "end_time": "2023-01-07T16:48:56.486996",
     "exception": false,
     "start_time": "2023-01-07T16:48:56.374153",
     "status": "completed"
    },
    "tags": []
   },
   "outputs": [],
   "source": [
    "X_train_df = pd.concat([X_train_zero,X_train_one,X_train_two, X_train_three, X_train_four, X_train_five], axis = 0)\n",
    "tfdf_train = X_train_df.drop(['labelxyz'], axis = 1)\n",
    "y_train = list(X_train_df.labelxyz)\n",
    "X_test_df = pd.concat([X_test_zero,X_test_one,X_test_two, X_test_three, X_test_four, X_test_five], axis = 0)\n",
    "tfdf_test = X_test_df.drop(['labelxyz'], axis = 1)\n",
    "y_test = list(X_test_df.labelxyz)\n"
   ]
  },
  {
   "cell_type": "code",
   "execution_count": 50,
   "id": "83d3fd1a",
   "metadata": {
    "execution": {
     "iopub.execute_input": "2023-01-07T16:48:56.529041Z",
     "iopub.status.busy": "2023-01-07T16:48:56.528352Z",
     "iopub.status.idle": "2023-01-07T16:48:56.533194Z",
     "shell.execute_reply": "2023-01-07T16:48:56.532413Z"
    },
    "papermill": {
     "duration": 0.028301,
     "end_time": "2023-01-07T16:48:56.535346",
     "exception": false,
     "start_time": "2023-01-07T16:48:56.507045",
     "status": "completed"
    },
    "tags": []
   },
   "outputs": [],
   "source": [
    "accuracy = {'TF-IDF':[],'BOW':[]}"
   ]
  },
  {
   "cell_type": "code",
   "execution_count": 51,
   "id": "4f2f8765",
   "metadata": {
    "execution": {
     "iopub.execute_input": "2023-01-07T16:48:56.577519Z",
     "iopub.status.busy": "2023-01-07T16:48:56.576870Z",
     "iopub.status.idle": "2023-01-07T16:48:56.751420Z",
     "shell.execute_reply": "2023-01-07T16:48:56.750266Z"
    },
    "papermill": {
     "duration": 0.198431,
     "end_time": "2023-01-07T16:48:56.754177",
     "exception": false,
     "start_time": "2023-01-07T16:48:56.555746",
     "status": "completed"
    },
    "tags": []
   },
   "outputs": [],
   "source": [
    "from sklearn.linear_model import LogisticRegression\n",
    "from sklearn.naive_bayes import GaussianNB\n",
    "from sklearn.ensemble import RandomForestClassifier\n",
    "from sklearn.tree import DecisionTreeClassifier\n",
    "from sklearn.neighbors import KNeighborsClassifier\n",
    "from sklearn.ensemble import GradientBoostingClassifier\n",
    "\n",
    "from sklearn import metrics\n",
    "import matplotlib.pyplot as plt\n",
    "%matplotlib inline\n",
    "from sklearn.metrics import plot_confusion_matrix\n",
    "from sklearn.metrics import precision_score, recall_score, f1_score\n",
    "import seaborn as sns"
   ]
  },
  {
   "cell_type": "markdown",
   "id": "eb8775fb",
   "metadata": {
    "papermill": {
     "duration": 0.019604,
     "end_time": "2023-01-07T16:48:56.793845",
     "exception": false,
     "start_time": "2023-01-07T16:48:56.774241",
     "status": "completed"
    },
    "tags": []
   },
   "source": [
    "# Logistic Regression"
   ]
  },
  {
   "cell_type": "code",
   "execution_count": 52,
   "id": "04d36c9d",
   "metadata": {
    "execution": {
     "iopub.execute_input": "2023-01-07T16:48:56.835925Z",
     "iopub.status.busy": "2023-01-07T16:48:56.835218Z",
     "iopub.status.idle": "2023-01-07T16:48:56.842072Z",
     "shell.execute_reply": "2023-01-07T16:48:56.841083Z"
    },
    "papermill": {
     "duration": 0.030512,
     "end_time": "2023-01-07T16:48:56.844313",
     "exception": false,
     "start_time": "2023-01-07T16:48:56.813801",
     "status": "completed"
    },
    "tags": []
   },
   "outputs": [
    {
     "data": {
      "text/plain": [
       "(8116, 8116)"
      ]
     },
     "execution_count": 52,
     "metadata": {},
     "output_type": "execute_result"
    }
   ],
   "source": [
    "len(tfdf_train), len(y_train)"
   ]
  },
  {
   "cell_type": "code",
   "execution_count": 53,
   "id": "e8e3da1f",
   "metadata": {
    "execution": {
     "iopub.execute_input": "2023-01-07T16:48:56.886204Z",
     "iopub.status.busy": "2023-01-07T16:48:56.885755Z",
     "iopub.status.idle": "2023-01-07T16:48:56.892453Z",
     "shell.execute_reply": "2023-01-07T16:48:56.891653Z"
    },
    "papermill": {
     "duration": 0.030099,
     "end_time": "2023-01-07T16:48:56.894460",
     "exception": false,
     "start_time": "2023-01-07T16:48:56.864361",
     "status": "completed"
    },
    "tags": []
   },
   "outputs": [
    {
     "data": {
      "text/plain": [
       "(903, 903)"
      ]
     },
     "execution_count": 53,
     "metadata": {},
     "output_type": "execute_result"
    }
   ],
   "source": [
    "len(tfdf_test), len(y_test)"
   ]
  },
  {
   "cell_type": "code",
   "execution_count": 54,
   "id": "bd3d7efc",
   "metadata": {
    "execution": {
     "iopub.execute_input": "2023-01-07T16:48:56.936276Z",
     "iopub.status.busy": "2023-01-07T16:48:56.935858Z",
     "iopub.status.idle": "2023-01-07T16:49:01.143336Z",
     "shell.execute_reply": "2023-01-07T16:49:01.141822Z"
    },
    "papermill": {
     "duration": 4.234084,
     "end_time": "2023-01-07T16:49:01.148693",
     "exception": false,
     "start_time": "2023-01-07T16:48:56.914609",
     "status": "completed"
    },
    "tags": []
   },
   "outputs": [
    {
     "name": "stdout",
     "output_type": "stream",
     "text": [
      "[[ 18   2   8  14  20]\n",
      " [  3  11  30  14  15]\n",
      " [  3  10  70  79  27]\n",
      " [  3   0  38 192  81]\n",
      " [  2   1  20  74 168]]\n",
      "              precision    recall  f1-score   support\n",
      "\n",
      "           0       0.62      0.29      0.40        62\n",
      "           2       0.46      0.15      0.23        73\n",
      "           3       0.42      0.37      0.39       189\n",
      "           4       0.51      0.61      0.56       314\n",
      "           5       0.54      0.63      0.58       265\n",
      "\n",
      "    accuracy                           0.51       903\n",
      "   macro avg       0.51      0.41      0.43       903\n",
      "weighted avg       0.51      0.51      0.49       903\n",
      "\n",
      "0.5083056478405316\n"
     ]
    }
   ],
   "source": [
    "#TF-IDF\n",
    "regressor_LR_tf = LogisticRegression(C=1.0,penalty='l2',solver='newton-cg')\n",
    "regressor_LR_tf.fit(tfdf_train,y_train)\n",
    "y_predict_LR_tf = regressor_LR_tf.predict(tfdf_test)\n",
    "a=(regressor_LR_tf.score(tfdf_test,y_test))\n",
    "accuracy['TF-IDF'].append(a)\n",
    "\n",
    "print(metrics.confusion_matrix(y_test, y_predict_LR_tf))\n",
    "print(metrics.classification_report(y_test, y_predict_LR_tf))\n",
    "print(metrics.accuracy_score(y_test, y_predict_LR_tf))"
   ]
  },
  {
   "cell_type": "markdown",
   "id": "c6ff5c6b",
   "metadata": {
    "papermill": {
     "duration": 0.045055,
     "end_time": "2023-01-07T16:49:01.248716",
     "exception": false,
     "start_time": "2023-01-07T16:49:01.203661",
     "status": "completed"
    },
    "tags": []
   },
   "source": [
    "# Decision Tree"
   ]
  },
  {
   "cell_type": "code",
   "execution_count": 55,
   "id": "846373de",
   "metadata": {
    "execution": {
     "iopub.execute_input": "2023-01-07T16:49:01.291920Z",
     "iopub.status.busy": "2023-01-07T16:49:01.290745Z",
     "iopub.status.idle": "2023-01-07T16:49:01.524820Z",
     "shell.execute_reply": "2023-01-07T16:49:01.523279Z"
    },
    "papermill": {
     "duration": 0.258995,
     "end_time": "2023-01-07T16:49:01.528076",
     "exception": false,
     "start_time": "2023-01-07T16:49:01.269081",
     "status": "completed"
    },
    "tags": []
   },
   "outputs": [
    {
     "name": "stdout",
     "output_type": "stream",
     "text": [
      "[[  0   0   0  56   6]\n",
      " [  0   0   0  67   6]\n",
      " [  0   0   0 153  36]\n",
      " [  0   0   0 209 105]\n",
      " [  0   0   0 139 126]]\n",
      "              precision    recall  f1-score   support\n",
      "\n",
      "           0       0.00      0.00      0.00        62\n",
      "           2       0.00      0.00      0.00        73\n",
      "           3       0.00      0.00      0.00       189\n",
      "           4       0.33      0.67      0.45       314\n",
      "           5       0.45      0.48      0.46       265\n",
      "\n",
      "    accuracy                           0.37       903\n",
      "   macro avg       0.16      0.23      0.18       903\n",
      "weighted avg       0.25      0.37      0.29       903\n",
      "\n",
      "0.3709856035437431\n"
     ]
    },
    {
     "name": "stderr",
     "output_type": "stream",
     "text": [
      "/opt/conda/lib/python3.7/site-packages/sklearn/metrics/_classification.py:1318: UndefinedMetricWarning: Precision and F-score are ill-defined and being set to 0.0 in labels with no predicted samples. Use `zero_division` parameter to control this behavior.\n",
      "  _warn_prf(average, modifier, msg_start, len(result))\n",
      "/opt/conda/lib/python3.7/site-packages/sklearn/metrics/_classification.py:1318: UndefinedMetricWarning: Precision and F-score are ill-defined and being set to 0.0 in labels with no predicted samples. Use `zero_division` parameter to control this behavior.\n",
      "  _warn_prf(average, modifier, msg_start, len(result))\n",
      "/opt/conda/lib/python3.7/site-packages/sklearn/metrics/_classification.py:1318: UndefinedMetricWarning: Precision and F-score are ill-defined and being set to 0.0 in labels with no predicted samples. Use `zero_division` parameter to control this behavior.\n",
      "  _warn_prf(average, modifier, msg_start, len(result))\n"
     ]
    }
   ],
   "source": [
    "#TF-IDF\n",
    "model_DT_tf = DecisionTreeClassifier(criterion = 'gini', max_depth=2) \n",
    "model_DT_tf.fit(tfdf_train,y_train)\n",
    "y_predict_DT_tf = model_DT_tf.predict(tfdf_test)\n",
    "a=(model_DT_tf.score(tfdf_test,y_test))\n",
    "accuracy['TF-IDF'].append(a)\n",
    "\n",
    "print(metrics.confusion_matrix(y_test, y_predict_DT_tf))\n",
    "print(metrics.classification_report(y_test, y_predict_DT_tf))\n",
    "print(metrics.accuracy_score(y_test, y_predict_DT_tf))"
   ]
  },
  {
   "cell_type": "markdown",
   "id": "d1bab4ee",
   "metadata": {
    "papermill": {
     "duration": 0.020315,
     "end_time": "2023-01-07T16:49:01.570485",
     "exception": false,
     "start_time": "2023-01-07T16:49:01.550170",
     "status": "completed"
    },
    "tags": []
   },
   "source": [
    "# Gradient Boosting"
   ]
  },
  {
   "cell_type": "code",
   "execution_count": 56,
   "id": "665db51d",
   "metadata": {
    "execution": {
     "iopub.execute_input": "2023-01-07T16:49:01.613741Z",
     "iopub.status.busy": "2023-01-07T16:49:01.612548Z",
     "iopub.status.idle": "2023-01-07T16:50:45.133284Z",
     "shell.execute_reply": "2023-01-07T16:50:45.132031Z"
    },
    "papermill": {
     "duration": 103.566026,
     "end_time": "2023-01-07T16:50:45.156939",
     "exception": false,
     "start_time": "2023-01-07T16:49:01.590913",
     "status": "completed"
    },
    "tags": []
   },
   "outputs": [
    {
     "name": "stdout",
     "output_type": "stream",
     "text": [
      "[[ 16   2   4  26  14]\n",
      " [  1   8  14  36  14]\n",
      " [  1   2  60 104  22]\n",
      " [  0   2  19 215  78]\n",
      " [  0   1   4 101 159]]\n",
      "              precision    recall  f1-score   support\n",
      "\n",
      "           0       0.89      0.26      0.40        62\n",
      "           2       0.53      0.11      0.18        73\n",
      "           3       0.59      0.32      0.41       189\n",
      "           4       0.45      0.68      0.54       314\n",
      "           5       0.55      0.60      0.58       265\n",
      "\n",
      "    accuracy                           0.51       903\n",
      "   macro avg       0.60      0.39      0.42       903\n",
      "weighted avg       0.55      0.51      0.49       903\n",
      "\n",
      "0.5071982281284607\n"
     ]
    }
   ],
   "source": [
    "#TF-IDF\n",
    "model_GB_tf = GradientBoostingClassifier(learning_rate= 0.1, max_depth=3, n_estimators= 100,subsample=1.0) \n",
    "model_GB_tf.fit(tfdf_train,y_train)\n",
    "y_predict_GB_tf = model_GB_tf.predict(tfdf_test)\n",
    "a=(model_GB_tf.score(tfdf_test,y_test))\n",
    "accuracy['TF-IDF'].append(a)\n",
    "print(metrics.confusion_matrix(y_test, y_predict_GB_tf))\n",
    "print(metrics.classification_report(y_test, y_predict_GB_tf))\n",
    "print(metrics.accuracy_score(y_test, y_predict_GB_tf))"
   ]
  },
  {
   "cell_type": "markdown",
   "id": "d4a1ca6a",
   "metadata": {
    "papermill": {
     "duration": 0.020469,
     "end_time": "2023-01-07T16:50:45.198349",
     "exception": false,
     "start_time": "2023-01-07T16:50:45.177880",
     "status": "completed"
    },
    "tags": []
   },
   "source": [
    "# Random Forest"
   ]
  },
  {
   "cell_type": "code",
   "execution_count": 57,
   "id": "b10577cc",
   "metadata": {
    "execution": {
     "iopub.execute_input": "2023-01-07T16:50:45.241679Z",
     "iopub.status.busy": "2023-01-07T16:50:45.241266Z",
     "iopub.status.idle": "2023-01-07T16:50:49.287982Z",
     "shell.execute_reply": "2023-01-07T16:50:49.286581Z"
    },
    "papermill": {
     "duration": 4.071408,
     "end_time": "2023-01-07T16:50:49.290524",
     "exception": false,
     "start_time": "2023-01-07T16:50:45.219116",
     "status": "completed"
    },
    "tags": []
   },
   "outputs": [
    {
     "name": "stdout",
     "output_type": "stream",
     "text": [
      "[[ 16   0   2  20  24]\n",
      " [  1   2  17  30  23]\n",
      " [  2   1  32 120  34]\n",
      " [  1   0  23 218  72]\n",
      " [  0   0  12  97 156]]\n",
      "              precision    recall  f1-score   support\n",
      "\n",
      "           0       0.80      0.26      0.39        62\n",
      "           2       0.67      0.03      0.05        73\n",
      "           3       0.37      0.17      0.23       189\n",
      "           4       0.45      0.69      0.55       314\n",
      "           5       0.50      0.59      0.54       265\n",
      "\n",
      "    accuracy                           0.47       903\n",
      "   macro avg       0.56      0.35      0.35       903\n",
      "weighted avg       0.49      0.47      0.43       903\n",
      "\n",
      "0.4695459579180509\n"
     ]
    }
   ],
   "source": [
    "#TF-IDF\n",
    "model_RF_tf = RandomForestClassifier(n_estimators= 100, max_features = 'log2')\n",
    "model_RF_tf.fit(tfdf_train,y_train)\n",
    "y_predict_RF_tf = model_RF_tf.predict(tfdf_test)\n",
    "a=(model_RF_tf.score(tfdf_test,y_test))\n",
    "accuracy['TF-IDF'].append(a)\n",
    "\n",
    "print(metrics.confusion_matrix(y_test, y_predict_RF_tf))\n",
    "print(metrics.classification_report(y_test, y_predict_RF_tf))\n",
    "print(metrics.accuracy_score(y_test, y_predict_RF_tf))"
   ]
  },
  {
   "cell_type": "markdown",
   "id": "c556e100",
   "metadata": {
    "papermill": {
     "duration": 0.020361,
     "end_time": "2023-01-07T16:50:49.333894",
     "exception": false,
     "start_time": "2023-01-07T16:50:49.313533",
     "status": "completed"
    },
    "tags": []
   },
   "source": [
    "# K Nearest Neighbours"
   ]
  },
  {
   "cell_type": "code",
   "execution_count": 58,
   "id": "529fc5c2",
   "metadata": {
    "execution": {
     "iopub.execute_input": "2023-01-07T16:50:49.377500Z",
     "iopub.status.busy": "2023-01-07T16:50:49.376785Z",
     "iopub.status.idle": "2023-01-07T16:51:50.863387Z",
     "shell.execute_reply": "2023-01-07T16:51:50.862190Z"
    },
    "papermill": {
     "duration": 61.532112,
     "end_time": "2023-01-07T16:51:50.886701",
     "exception": false,
     "start_time": "2023-01-07T16:50:49.354589",
     "status": "completed"
    },
    "tags": []
   },
   "outputs": [
    {
     "name": "stdout",
     "output_type": "stream",
     "text": [
      "[[ 10  20  14  12   6]\n",
      " [  8  14  15  30   6]\n",
      " [ 14  43  45  73  14]\n",
      " [ 18  77  66 132  21]\n",
      " [ 15  64  61  95  30]]\n",
      "              precision    recall  f1-score   support\n",
      "\n",
      "           0       0.15      0.16      0.16        62\n",
      "           2       0.06      0.19      0.10        73\n",
      "           3       0.22      0.24      0.23       189\n",
      "           4       0.39      0.42      0.40       314\n",
      "           5       0.39      0.11      0.18       265\n",
      "\n",
      "    accuracy                           0.26       903\n",
      "   macro avg       0.24      0.22      0.21       903\n",
      "weighted avg       0.31      0.26      0.26       903\n",
      "\n",
      "0.2558139534883721\n"
     ]
    }
   ],
   "source": [
    "#TF-IDF\n",
    "model_KN_tf = KNeighborsClassifier(metric= 'manhattan', n_neighbors= 5, weights= 'distance') \n",
    "model_KN_tf.fit(tfdf_train,y_train)\n",
    "y_predict_KN_tf = model_KN_tf.predict(tfdf_test)\n",
    "a=(model_KN_tf.score(tfdf_test,y_test))\n",
    "accuracy['TF-IDF'].append(a)\n",
    "print(metrics.confusion_matrix(y_test, y_predict_KN_tf))\n",
    "print(metrics.classification_report(y_test, y_predict_KN_tf))\n",
    "print(metrics.accuracy_score(y_test, y_predict_KN_tf))"
   ]
  },
  {
   "cell_type": "code",
   "execution_count": 59,
   "id": "1d3ba97f",
   "metadata": {
    "execution": {
     "iopub.execute_input": "2023-01-07T16:51:50.930122Z",
     "iopub.status.busy": "2023-01-07T16:51:50.929672Z",
     "iopub.status.idle": "2023-01-07T16:51:50.942236Z",
     "shell.execute_reply": "2023-01-07T16:51:50.941293Z"
    },
    "papermill": {
     "duration": 0.036912,
     "end_time": "2023-01-07T16:51:50.944220",
     "exception": false,
     "start_time": "2023-01-07T16:51:50.907308",
     "status": "completed"
    },
    "tags": []
   },
   "outputs": [
    {
     "data": {
      "text/html": [
       "<div>\n",
       "<style scoped>\n",
       "    .dataframe tbody tr th:only-of-type {\n",
       "        vertical-align: middle;\n",
       "    }\n",
       "\n",
       "    .dataframe tbody tr th {\n",
       "        vertical-align: top;\n",
       "    }\n",
       "\n",
       "    .dataframe thead th {\n",
       "        text-align: right;\n",
       "    }\n",
       "</style>\n",
       "<table border=\"1\" class=\"dataframe\">\n",
       "  <thead>\n",
       "    <tr style=\"text-align: right;\">\n",
       "      <th></th>\n",
       "      <th>model</th>\n",
       "      <th>accuracy</th>\n",
       "    </tr>\n",
       "  </thead>\n",
       "  <tbody>\n",
       "    <tr>\n",
       "      <th>0</th>\n",
       "      <td>LR</td>\n",
       "      <td>0.508306</td>\n",
       "    </tr>\n",
       "    <tr>\n",
       "      <th>1</th>\n",
       "      <td>DT</td>\n",
       "      <td>0.370986</td>\n",
       "    </tr>\n",
       "    <tr>\n",
       "      <th>2</th>\n",
       "      <td>GB</td>\n",
       "      <td>0.507198</td>\n",
       "    </tr>\n",
       "    <tr>\n",
       "      <th>3</th>\n",
       "      <td>RF</td>\n",
       "      <td>0.469546</td>\n",
       "    </tr>\n",
       "    <tr>\n",
       "      <th>4</th>\n",
       "      <td>KN</td>\n",
       "      <td>0.255814</td>\n",
       "    </tr>\n",
       "  </tbody>\n",
       "</table>\n",
       "</div>"
      ],
      "text/plain": [
       "  model  accuracy\n",
       "0    LR  0.508306\n",
       "1    DT  0.370986\n",
       "2    GB  0.507198\n",
       "3    RF  0.469546\n",
       "4    KN  0.255814"
      ]
     },
     "execution_count": 59,
     "metadata": {},
     "output_type": "execute_result"
    }
   ],
   "source": [
    "model = ['LR','DT','GB','RF','KN']\n",
    "data = {'model':model,'accuracy':accuracy['TF-IDF']}\n",
    "compare_models = pd.DataFrame(data)\n",
    "compare_models"
   ]
  },
  {
   "cell_type": "markdown",
   "id": "2019d76b",
   "metadata": {
    "papermill": {
     "duration": 0.020356,
     "end_time": "2023-01-07T16:51:50.985333",
     "exception": false,
     "start_time": "2023-01-07T16:51:50.964977",
     "status": "completed"
    },
    "tags": []
   },
   "source": [
    "# RNN"
   ]
  },
  {
   "cell_type": "code",
   "execution_count": 60,
   "id": "7202906d",
   "metadata": {
    "execution": {
     "iopub.execute_input": "2023-01-07T16:51:51.029323Z",
     "iopub.status.busy": "2023-01-07T16:51:51.028687Z",
     "iopub.status.idle": "2023-01-07T16:52:05.220383Z",
     "shell.execute_reply": "2023-01-07T16:52:05.218628Z"
    },
    "papermill": {
     "duration": 14.216564,
     "end_time": "2023-01-07T16:52:05.222802",
     "exception": false,
     "start_time": "2023-01-07T16:51:51.006238",
     "status": "completed"
    },
    "tags": []
   },
   "outputs": [
    {
     "name": "stdout",
     "output_type": "stream",
     "text": [
      "There are 41591 unique words in the dataset.\n",
      "There are 8997 unique tweets in the dataset.\n"
     ]
    },
    {
     "data": {
      "text/html": [
       "<div>\n",
       "<style scoped>\n",
       "    .dataframe tbody tr th:only-of-type {\n",
       "        vertical-align: middle;\n",
       "    }\n",
       "\n",
       "    .dataframe tbody tr th {\n",
       "        vertical-align: top;\n",
       "    }\n",
       "\n",
       "    .dataframe thead th {\n",
       "        text-align: right;\n",
       "    }\n",
       "</style>\n",
       "<table border=\"1\" class=\"dataframe\">\n",
       "  <thead>\n",
       "    <tr style=\"text-align: right;\">\n",
       "      <th></th>\n",
       "      <th>rating</th>\n",
       "      <th>review_text</th>\n",
       "    </tr>\n",
       "  </thead>\n",
       "  <tbody>\n",
       "    <tr>\n",
       "      <th>3</th>\n",
       "      <td>0</td>\n",
       "      <td>recommended reading understand going middle am...</td>\n",
       "    </tr>\n",
       "    <tr>\n",
       "      <th>7</th>\n",
       "      <td>0</td>\n",
       "      <td>numerous people publishing told book year.</td>\n",
       "    </tr>\n",
       "    <tr>\n",
       "      <th>13</th>\n",
       "      <td>0</td>\n",
       "      <td>recommended david risher</td>\n",
       "    </tr>\n",
       "    <tr>\n",
       "      <th>54</th>\n",
       "      <td>0</td>\n",
       "      <td>well melanie says bbe, gotta check out...</td>\n",
       "    </tr>\n",
       "    <tr>\n",
       "      <th>58</th>\n",
       "      <td>0</td>\n",
       "      <td>steve recommends it, must good!</td>\n",
       "    </tr>\n",
       "  </tbody>\n",
       "</table>\n",
       "</div>"
      ],
      "text/plain": [
       "    rating                                        review_text\n",
       "3        0  recommended reading understand going middle am...\n",
       "7        0         numerous people publishing told book year.\n",
       "13       0                           recommended david risher\n",
       "54       0          well melanie says bbe, gotta check out...\n",
       "58       0                    steve recommends it, must good!"
      ]
     },
     "execution_count": 60,
     "metadata": {},
     "output_type": "execute_result"
    }
   ],
   "source": [
    "import pandas as pd\n",
    "from nltk import word_tokenize\n",
    "\n",
    "data = train['review_text'].map(word_tokenize).values\n",
    "total_vocabulary = set(word.lower() for tweet in data for word in tweet)  # set created from nested comprehension \n",
    "print('There are {} unique words in the dataset.'.format(len(total_vocabulary)))\n",
    "print('There are {} unique tweets in the dataset.'.format(len(data)))\n",
    "\n",
    "\n",
    "train.head()"
   ]
  },
  {
   "cell_type": "code",
   "execution_count": 61,
   "id": "ba3580ab",
   "metadata": {
    "execution": {
     "iopub.execute_input": "2023-01-07T16:52:05.270472Z",
     "iopub.status.busy": "2023-01-07T16:52:05.269139Z",
     "iopub.status.idle": "2023-01-07T16:52:12.984570Z",
     "shell.execute_reply": "2023-01-07T16:52:12.983152Z"
    },
    "papermill": {
     "duration": 7.742588,
     "end_time": "2023-01-07T16:52:12.987506",
     "exception": false,
     "start_time": "2023-01-07T16:52:05.244918",
     "status": "completed"
    },
    "tags": []
   },
   "outputs": [],
   "source": [
    "from keras.preprocessing.sequence import pad_sequences\n",
    "from keras.layers import Input, Dense, LSTM, Embedding\n",
    "from keras.layers import Dropout, Activation, Bidirectional, GlobalMaxPool1D\n",
    "from keras.models import Sequential\n",
    "from keras import initializers, regularizers, constraints, optimizers, layers\n",
    "from keras.preprocessing import text, sequence\n",
    "\n",
    "# set the emotion/sentiment as our target\n",
    "target = train['rating']\n",
    "\n",
    "# use one hot encoding since our target is categorical\n",
    "y = pd.get_dummies(target).values\n",
    "\n",
    "# use keras to create a Tokenizer object\n",
    "tokenizer = text.Tokenizer(num_words=20000)  # limit to the num_words most important ones\n",
    "tokenizer.fit_on_texts(list(train['review_text']))\n",
    "tokenized_texts = tokenizer.texts_to_sequences(train['review_text'])\n",
    "X = sequence.pad_sequences(tokenized_texts, maxlen=100)"
   ]
  },
  {
   "cell_type": "code",
   "execution_count": 62,
   "id": "d18d5ced",
   "metadata": {
    "execution": {
     "iopub.execute_input": "2023-01-07T16:52:13.032856Z",
     "iopub.status.busy": "2023-01-07T16:52:13.032127Z",
     "iopub.status.idle": "2023-01-07T16:52:13.038812Z",
     "shell.execute_reply": "2023-01-07T16:52:13.037702Z"
    },
    "papermill": {
     "duration": 0.032198,
     "end_time": "2023-01-07T16:52:13.041180",
     "exception": false,
     "start_time": "2023-01-07T16:52:13.008982",
     "status": "completed"
    },
    "tags": []
   },
   "outputs": [
    {
     "data": {
      "text/plain": [
       "(8997, 100)"
      ]
     },
     "execution_count": 62,
     "metadata": {},
     "output_type": "execute_result"
    }
   ],
   "source": [
    "X.shape"
   ]
  },
  {
   "cell_type": "code",
   "execution_count": 63,
   "id": "a09506b7",
   "metadata": {
    "execution": {
     "iopub.execute_input": "2023-01-07T16:52:13.086692Z",
     "iopub.status.busy": "2023-01-07T16:52:13.085997Z",
     "iopub.status.idle": "2023-01-07T16:52:13.093894Z",
     "shell.execute_reply": "2023-01-07T16:52:13.092736Z"
    },
    "papermill": {
     "duration": 0.033496,
     "end_time": "2023-01-07T16:52:13.096342",
     "exception": false,
     "start_time": "2023-01-07T16:52:13.062846",
     "status": "completed"
    },
    "tags": []
   },
   "outputs": [
    {
     "data": {
      "text/plain": [
       "(8997, 6)"
      ]
     },
     "execution_count": 63,
     "metadata": {},
     "output_type": "execute_result"
    }
   ],
   "source": [
    "y.shape"
   ]
  },
  {
   "cell_type": "code",
   "execution_count": 64,
   "id": "98045ae8",
   "metadata": {
    "execution": {
     "iopub.execute_input": "2023-01-07T16:52:13.142448Z",
     "iopub.status.busy": "2023-01-07T16:52:13.142045Z",
     "iopub.status.idle": "2023-01-07T16:52:13.149709Z",
     "shell.execute_reply": "2023-01-07T16:52:13.148801Z"
    },
    "papermill": {
     "duration": 0.033617,
     "end_time": "2023-01-07T16:52:13.152029",
     "exception": false,
     "start_time": "2023-01-07T16:52:13.118412",
     "status": "completed"
    },
    "tags": []
   },
   "outputs": [],
   "source": [
    "from sklearn.model_selection import train_test_split\n",
    "\n",
    "X_train, X_test, y_train, y_test = train_test_split(X, y, test_size=0.2)"
   ]
  },
  {
   "cell_type": "code",
   "execution_count": 65,
   "id": "3fde9b48",
   "metadata": {
    "execution": {
     "iopub.execute_input": "2023-01-07T16:52:13.197608Z",
     "iopub.status.busy": "2023-01-07T16:52:13.197182Z",
     "iopub.status.idle": "2023-01-07T16:52:13.205047Z",
     "shell.execute_reply": "2023-01-07T16:52:13.203807Z"
    },
    "papermill": {
     "duration": 0.033536,
     "end_time": "2023-01-07T16:52:13.207330",
     "exception": false,
     "start_time": "2023-01-07T16:52:13.173794",
     "status": "completed"
    },
    "tags": []
   },
   "outputs": [
    {
     "data": {
      "text/plain": [
       "array([[0, 0, 0, 0, 0, 1],\n",
       "       [0, 0, 0, 0, 0, 1],\n",
       "       [0, 0, 0, 0, 0, 1],\n",
       "       ...,\n",
       "       [1, 0, 0, 0, 0, 0],\n",
       "       [0, 0, 0, 0, 0, 1],\n",
       "       [0, 0, 0, 1, 0, 0]], dtype=uint8)"
      ]
     },
     "execution_count": 65,
     "metadata": {},
     "output_type": "execute_result"
    }
   ],
   "source": [
    "y_test"
   ]
  },
  {
   "cell_type": "code",
   "execution_count": 66,
   "id": "f9540d07",
   "metadata": {
    "execution": {
     "iopub.execute_input": "2023-01-07T16:52:13.252994Z",
     "iopub.status.busy": "2023-01-07T16:52:13.252550Z",
     "iopub.status.idle": "2023-01-07T16:52:13.743127Z",
     "shell.execute_reply": "2023-01-07T16:52:13.742062Z"
    },
    "papermill": {
     "duration": 0.516768,
     "end_time": "2023-01-07T16:52:13.745817",
     "exception": false,
     "start_time": "2023-01-07T16:52:13.229049",
     "status": "completed"
    },
    "tags": []
   },
   "outputs": [
    {
     "name": "stderr",
     "output_type": "stream",
     "text": [
      "2023-01-07 16:52:13.300212: I tensorflow/core/common_runtime/process_util.cc:146] Creating new thread pool with default inter op setting: 2. Tune using inter_op_parallelism_threads for best performance.\n"
     ]
    }
   ],
   "source": [
    "# create my NN model\n",
    "model = Sequential()\n",
    "\n",
    "embedding_size = 128\n",
    "model.add(Embedding(len(total_vocabulary), embedding_size))\n",
    "model.add(LSTM(25, return_sequences=True))\n",
    "model.add(GlobalMaxPool1D())\n",
    "model.add(Dropout(0.5))\n",
    "model.add(Dense(50, activation='relu'))\n",
    "model.add(Dropout(0.5))\n",
    "model.add(Dense(50, activation='relu'))\n",
    "model.add(Dropout(0.5))\n",
    "model.add(Dense(6, activation='softmax')) "
   ]
  },
  {
   "cell_type": "code",
   "execution_count": 67,
   "id": "78e21abb",
   "metadata": {
    "execution": {
     "iopub.execute_input": "2023-01-07T16:52:13.792173Z",
     "iopub.status.busy": "2023-01-07T16:52:13.791715Z",
     "iopub.status.idle": "2023-01-07T16:52:13.808844Z",
     "shell.execute_reply": "2023-01-07T16:52:13.807437Z"
    },
    "papermill": {
     "duration": 0.043412,
     "end_time": "2023-01-07T16:52:13.811795",
     "exception": false,
     "start_time": "2023-01-07T16:52:13.768383",
     "status": "completed"
    },
    "tags": []
   },
   "outputs": [
    {
     "name": "stdout",
     "output_type": "stream",
     "text": [
      "Model: \"sequential\"\n",
      "_________________________________________________________________\n",
      "Layer (type)                 Output Shape              Param #   \n",
      "=================================================================\n",
      "embedding (Embedding)        (None, None, 128)         5323648   \n",
      "_________________________________________________________________\n",
      "lstm (LSTM)                  (None, None, 25)          15400     \n",
      "_________________________________________________________________\n",
      "global_max_pooling1d (Global (None, 25)                0         \n",
      "_________________________________________________________________\n",
      "dropout (Dropout)            (None, 25)                0         \n",
      "_________________________________________________________________\n",
      "dense (Dense)                (None, 50)                1300      \n",
      "_________________________________________________________________\n",
      "dropout_1 (Dropout)          (None, 50)                0         \n",
      "_________________________________________________________________\n",
      "dense_1 (Dense)              (None, 50)                2550      \n",
      "_________________________________________________________________\n",
      "dropout_2 (Dropout)          (None, 50)                0         \n",
      "_________________________________________________________________\n",
      "dense_2 (Dense)              (None, 6)                 306       \n",
      "=================================================================\n",
      "Total params: 5,343,204\n",
      "Trainable params: 5,343,204\n",
      "Non-trainable params: 0\n",
      "_________________________________________________________________\n"
     ]
    }
   ],
   "source": [
    "model.compile(loss='categorical_crossentropy', \n",
    "              optimizer='adam', \n",
    "              metrics=['accuracy'])\n",
    "model.summary() # check the shape"
   ]
  },
  {
   "cell_type": "code",
   "execution_count": 68,
   "id": "98b905c2",
   "metadata": {
    "execution": {
     "iopub.execute_input": "2023-01-07T16:52:13.859570Z",
     "iopub.status.busy": "2023-01-07T16:52:13.859146Z",
     "iopub.status.idle": "2023-01-07T16:56:23.763943Z",
     "shell.execute_reply": "2023-01-07T16:56:23.762483Z"
    },
    "papermill": {
     "duration": 249.9322,
     "end_time": "2023-01-07T16:56:23.766906",
     "exception": false,
     "start_time": "2023-01-07T16:52:13.834706",
     "status": "completed"
    },
    "tags": []
   },
   "outputs": [
    {
     "name": "stdout",
     "output_type": "stream",
     "text": [
      "Epoch 1/10\n"
     ]
    },
    {
     "name": "stderr",
     "output_type": "stream",
     "text": [
      "2023-01-07 16:52:13.915258: I tensorflow/compiler/mlir/mlir_graph_optimization_pass.cc:185] None of the MLIR Optimization Passes are enabled (registered 2)\n"
     ]
    },
    {
     "name": "stdout",
     "output_type": "stream",
     "text": [
      "203/203 [==============================] - 29s 124ms/step - loss: 1.5494 - accuracy: 0.3191 - val_loss: 1.4621 - val_accuracy: 0.3375\n",
      "Epoch 2/10\n",
      "203/203 [==============================] - 25s 122ms/step - loss: 1.3934 - accuracy: 0.3477 - val_loss: 1.3932 - val_accuracy: 0.3722\n",
      "Epoch 3/10\n",
      "203/203 [==============================] - 24s 119ms/step - loss: 1.2600 - accuracy: 0.4040 - val_loss: 1.3985 - val_accuracy: 0.4014\n",
      "Epoch 4/10\n",
      "203/203 [==============================] - 25s 122ms/step - loss: 1.1314 - accuracy: 0.4604 - val_loss: 1.5017 - val_accuracy: 0.4056\n",
      "Epoch 5/10\n",
      "203/203 [==============================] - 25s 121ms/step - loss: 1.0565 - accuracy: 0.4887 - val_loss: 1.7082 - val_accuracy: 0.4069\n",
      "Epoch 6/10\n",
      "203/203 [==============================] - 25s 121ms/step - loss: 0.9667 - accuracy: 0.5157 - val_loss: 1.8120 - val_accuracy: 0.3833\n",
      "Epoch 7/10\n",
      "203/203 [==============================] - 24s 120ms/step - loss: 0.9095 - accuracy: 0.5283 - val_loss: 1.9625 - val_accuracy: 0.3792\n",
      "Epoch 8/10\n",
      "203/203 [==============================] - 25s 121ms/step - loss: 0.8764 - accuracy: 0.5538 - val_loss: 1.9573 - val_accuracy: 0.4069\n",
      "Epoch 9/10\n",
      "203/203 [==============================] - 25s 122ms/step - loss: 0.8205 - accuracy: 0.5851 - val_loss: 2.2118 - val_accuracy: 0.4181\n",
      "Epoch 10/10\n",
      "203/203 [==============================] - 25s 121ms/step - loss: 0.7851 - accuracy: 0.6136 - val_loss: 2.2268 - val_accuracy: 0.4056\n"
     ]
    }
   ],
   "source": [
    "hist = model.fit(X_train, y_train, epochs=10, batch_size=32, validation_split=0.1)"
   ]
  },
  {
   "cell_type": "code",
   "execution_count": 69,
   "id": "2ebf183a",
   "metadata": {
    "execution": {
     "iopub.execute_input": "2023-01-07T16:56:24.061967Z",
     "iopub.status.busy": "2023-01-07T16:56:24.061521Z",
     "iopub.status.idle": "2023-01-07T16:56:25.841251Z",
     "shell.execute_reply": "2023-01-07T16:56:25.840223Z"
    },
    "papermill": {
     "duration": 1.929854,
     "end_time": "2023-01-07T16:56:25.843738",
     "exception": false,
     "start_time": "2023-01-07T16:56:23.913884",
     "status": "completed"
    },
    "tags": []
   },
   "outputs": [],
   "source": [
    "from sklearn.metrics import accuracy_score\n",
    "from sklearn.metrics import confusion_matrix\n",
    "\n",
    "y_pred=model.predict(X_test) "
   ]
  },
  {
   "cell_type": "code",
   "execution_count": 70,
   "id": "3898955e",
   "metadata": {
    "execution": {
     "iopub.execute_input": "2023-01-07T16:56:26.134871Z",
     "iopub.status.busy": "2023-01-07T16:56:26.134154Z",
     "iopub.status.idle": "2023-01-07T16:56:26.142385Z",
     "shell.execute_reply": "2023-01-07T16:56:26.141005Z"
    },
    "papermill": {
     "duration": 0.155744,
     "end_time": "2023-01-07T16:56:26.145226",
     "exception": false,
     "start_time": "2023-01-07T16:56:25.989482",
     "status": "completed"
    },
    "tags": []
   },
   "outputs": [
    {
     "name": "stdout",
     "output_type": "stream",
     "text": [
      "[3 5 4 ... 4 4 3]\n"
     ]
    },
    {
     "data": {
      "text/plain": [
       "array([5, 5, 5, ..., 0, 5, 3])"
      ]
     },
     "execution_count": 70,
     "metadata": {},
     "output_type": "execute_result"
    }
   ],
   "source": [
    "y_pred_1 =  np.argmax(y_pred, axis=1)\n",
    "y_test = np.argmax(y_test, axis=1)\n",
    "print(y_pred_1)\n",
    "y_test"
   ]
  },
  {
   "cell_type": "code",
   "execution_count": 71,
   "id": "b17f39e8",
   "metadata": {
    "execution": {
     "iopub.execute_input": "2023-01-07T16:56:26.435042Z",
     "iopub.status.busy": "2023-01-07T16:56:26.434637Z",
     "iopub.status.idle": "2023-01-07T16:56:26.445469Z",
     "shell.execute_reply": "2023-01-07T16:56:26.444418Z"
    },
    "papermill": {
     "duration": 0.15959,
     "end_time": "2023-01-07T16:56:26.447961",
     "exception": false,
     "start_time": "2023-01-07T16:56:26.288371",
     "status": "completed"
    },
    "tags": []
   },
   "outputs": [
    {
     "name": "stdout",
     "output_type": "stream",
     "text": [
      "[[  3   0  25  12  20   4]\n",
      " [  0   0  20  16  10   2]\n",
      " [  1   0  42  84  30  11]\n",
      " [  2   0  29 190 112  50]\n",
      " [  0   0  13 140 234 245]\n",
      " [  2   0  11  55 146 291]]\n"
     ]
    },
    {
     "data": {
      "text/plain": [
       "0.4222222222222222"
      ]
     },
     "execution_count": 71,
     "metadata": {},
     "output_type": "execute_result"
    }
   ],
   "source": [
    "cm = confusion_matrix(y_test, y_pred_1)\n",
    "print(cm)\n",
    "\n",
    "accuracy_score(y_test, y_pred_1)"
   ]
  },
  {
   "cell_type": "code",
   "execution_count": 72,
   "id": "003aac61",
   "metadata": {
    "execution": {
     "iopub.execute_input": "2023-01-07T16:56:26.744962Z",
     "iopub.status.busy": "2023-01-07T16:56:26.743686Z",
     "iopub.status.idle": "2023-01-07T16:56:26.750987Z",
     "shell.execute_reply": "2023-01-07T16:56:26.749335Z"
    },
    "papermill": {
     "duration": 0.15998,
     "end_time": "2023-01-07T16:56:26.753448",
     "exception": false,
     "start_time": "2023-01-07T16:56:26.593468",
     "status": "completed"
    },
    "tags": []
   },
   "outputs": [
    {
     "name": "stdout",
     "output_type": "stream",
     "text": [
      "dict_keys(['loss', 'accuracy', 'val_loss', 'val_accuracy'])\n"
     ]
    }
   ],
   "source": [
    "print(hist.history.keys())"
   ]
  },
  {
   "cell_type": "code",
   "execution_count": 73,
   "id": "c95bdd9f",
   "metadata": {
    "execution": {
     "iopub.execute_input": "2023-01-07T16:56:27.050823Z",
     "iopub.status.busy": "2023-01-07T16:56:27.049596Z",
     "iopub.status.idle": "2023-01-07T16:56:27.824182Z",
     "shell.execute_reply": "2023-01-07T16:56:27.822854Z"
    },
    "papermill": {
     "duration": 0.925102,
     "end_time": "2023-01-07T16:56:27.826166",
     "exception": false,
     "start_time": "2023-01-07T16:56:26.901064",
     "status": "completed"
    },
    "tags": []
   },
   "outputs": [
    {
     "data": {
      "image/png": "[encoded data removed]",
      "text/plain": [
       "<Figure size 432x288 with 1 Axes>"
      ]
     },
     "metadata": {
      "needs_background": "light"
     },
     "output_type": "display_data"
    },
    {
     "data": {
      "image/png": "[encoded data removed]",
      "text/plain": [
       "<Figure size 432x288 with 1 Axes>"
      ]
     },
     "metadata": {
      "needs_background": "light"
     },
     "output_type": "display_data"
    }
   ],
   "source": [
    "# Visualize training history\n",
    "from tensorflow.keras.models import Sequential\n",
    "from tensorflow.keras.layers import Dense\n",
    "import matplotlib.pyplot as plt\n",
    "import numpy as np\n",
    "\n",
    "plt.plot(hist.history['accuracy'])\n",
    "plt.plot(hist.history['val_accuracy'])\n",
    "plt.title('model accuracy')\n",
    "plt.ylabel('accuracy')\n",
    "plt.xlabel('epoch')\n",
    "plt.legend(['train', 'test'], loc='upper left')\n",
    "plt.show()\n",
    "# summarize history for loss\n",
    "plt.plot(hist.history['loss'])\n",
    "plt.plot(hist.history['val_loss'])\n",
    "plt.title('model loss')\n",
    "plt.ylabel('loss')\n",
    "plt.xlabel('epoch')\n",
    "plt.legend(['train', 'test'], loc='upper left')\n",
    "plt.show()"
   ]
  }
 ],
 "metadata": {
  "kernelspec": {
   "display_name": "Python 3",
   "language": "python",
   "name": "python3"
  },
  "language_info": {
   "codemirror_mode": {
    "name": "ipython",
    "version": 3
   },
   "file_extension": ".py",
   "mimetype": "text/x-python",
   "name": "python",
   "nbconvert_exporter": "python",
   "pygments_lexer": "ipython3",
   "version": "3.7.12"
  },
  "papermill": {
   "default_parameters": {},
   "duration": 727.245045,
   "end_time": "2023-01-07T16:56:30.976712",
   "environment_variables": {},
   "exception": null,
   "input_path": "__notebook__.ipynb",
   "output_path": "__notebook__.ipynb",
   "parameters": {},
   "start_time": "2023-01-07T16:44:23.731667",
   "version": "2.3.4"
  }
 },
 "nbformat": 4,
 "nbformat_minor": 5
}
